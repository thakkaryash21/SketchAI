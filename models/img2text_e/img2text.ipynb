{
 "cells": [
  {
   "cell_type": "code",
   "execution_count": 5,
   "id": "c83885d1-36a4-45bb-a0ad-81d1763a62b7",
   "metadata": {},
   "outputs": [],
   "source": [
    "# !pip install transformers torch pillow\n",
    "# !pip install opencv-python-headless\n",
    "# !pip install matplotlib"
   ]
  },
  {
   "cell_type": "code",
   "execution_count": 28,
   "id": "e8a89dc4",
   "metadata": {},
   "outputs": [
    {
     "data": {
      "text/plain": [
       "'cuda'"
      ]
     },
     "execution_count": 28,
     "metadata": {},
     "output_type": "execute_result"
    }
   ],
   "source": [
    "from transformers import BlipProcessor, BlipForConditionalGeneration\n",
    "from transformers import Seq2SeqTrainer, Seq2SeqTrainingArguments\n",
    "from torch.utils.data import Dataset, DataLoader\n",
    "from typing import Union, List, Tuple\n",
    "from PIL import Image\n",
    "import torch\n",
    "import urllib\n",
    "import os\n",
    "import numpy as np\n",
    "import matplotlib.pyplot as plt\n",
    "import torchvision.transforms as transforms\n",
    "import json\n",
    "from datasets import Dataset\n",
    "from tqdm import tqdm\n",
    "import gc\n",
    "\n",
    "DEVICE = \"cuda\" if torch.cuda.is_available() else \"cpu\"\n",
    "DEVICE"
   ]
  },
  {
   "cell_type": "code",
   "execution_count": 29,
   "id": "06ca846a",
   "metadata": {},
   "outputs": [],
   "source": [
    "root = '/home/sagemaker-user/img2text'\n",
    "config = {\n",
    "    \"sketches\": f\"{root}/sketches\",\n",
    "    \"ground_truth\": f\"{root}/ground_truth.json\",\n",
    "    \"epochs\": 50\n",
    "}"
   ]
  },
  {
   "cell_type": "markdown",
   "id": "40b5b545-76da-47bf-a4ca-50461663ce14",
   "metadata": {},
   "source": [
    "# Load Sketches"
   ]
  },
  {
   "cell_type": "code",
   "execution_count": 30,
   "id": "4a6125b3",
   "metadata": {},
   "outputs": [
    {
     "name": "stderr",
     "output_type": "stream",
     "text": [
      "Loading bike: 100%|██████████| 9/9 [00:00<00:00, 5534.19it/s]\n",
      "Loading car: 100%|██████████| 10/10 [00:00<00:00, 8184.01it/s]\n",
      "Loading cat: 100%|██████████| 7/7 [00:00<00:00, 7580.72it/s]\n",
      "Loading cycle: 100%|██████████| 6/6 [00:00<00:00, 4531.12it/s]\n",
      "Loading plane: 100%|██████████| 10/10 [00:00<00:00, 6151.81it/s]\n",
      "Loading signal: 100%|██████████| 6/6 [00:00<00:00, 3076.51it/s]\n"
     ]
    }
   ],
   "source": [
    "metadata = json.load(open(f'{config[\"sketches\"]}/metadata.json'))\n",
    "\n",
    "sketches = []\n",
    "\n",
    "for key in metadata:\n",
    "    for i in tqdm(range(metadata[key]),desc= f'Loading {key}'):\n",
    "        file_name = key+ f\"_{i+1}\"\n",
    "        sketch = Image.open(os.path.join( config['sketches'], file_name+\".png\"))\n",
    "        sketches.append((file_name, sketch))"
   ]
  },
  {
   "cell_type": "markdown",
   "id": "944d2a7a-0b6a-4045-a247-70199538300e",
   "metadata": {},
   "source": [
    "# Load Model"
   ]
  },
  {
   "cell_type": "code",
   "execution_count": 31,
   "id": "2429eda7",
   "metadata": {},
   "outputs": [],
   "source": [
    "processor = BlipProcessor.from_pretrained(\"Salesforce/blip-image-captioning-base\")\n",
    "model = BlipForConditionalGeneration.from_pretrained(\"Salesforce/blip-image-captioning-base\")"
   ]
  },
  {
   "cell_type": "markdown",
   "id": "dd64b386-04c2-45b3-b831-351d3aa79fa6",
   "metadata": {},
   "source": [
    "# Baseline"
   ]
  },
  {
   "cell_type": "code",
   "execution_count": 32,
   "id": "c1db1301-9343-4771-a09d-ce03d77090e3",
   "metadata": {},
   "outputs": [
    {
     "name": "stderr",
     "output_type": "stream",
     "text": [
      "Generating Caption...:   0%|          | 0/48 [00:00<?, ?it/s]/home/sagemaker-user/.conda/envs/stable-diffusion/lib/python3.9/site-packages/transformers/generation/utils.py:1375: UserWarning: Using the model-agnostic default `max_length` (=20) to control the generation length. We recommend setting `max_new_tokens` to control the maximum length of the generation.\n",
      "  warnings.warn(\n",
      "Generating Caption...: 100%|██████████| 48/48 [01:02<00:00,  1.31s/it]"
     ]
    },
    {
     "name": "stdout",
     "output_type": "stream",
     "text": [
      "{'bike_1': 'a motorcycle with a rider on it', 'bike_2': 'a motorcycle is shown in the shape of a motorcycle', 'bike_3': 'a drawing of a bicycle', 'bike_4': 'a drawing of a man with a gun', 'bike_5': 'a motorcycle with a side view', 'bike_6': 'a drawing of a motorcycle', 'bike_7': 'a drawing of a person riding a bike', 'bike_8': 'a motorcycle with a helmet and helmet on it', 'bike_9': 'a motorcycle is shown in the shape of a motorcycle', 'car_1': 'a drawing of a car', 'car_2': 'a map of the state of new york', 'car_3': 'a car with a white background', 'car_4': 'a car with the number plate removed', 'car_5': 'a car is shown in the shape of a car', 'car_6': 'a drawing of a truck', 'car_7': 'a car is shown in the shape of a car', 'car_8': 'a drawing of a truck', 'car_9': 'a car with wheels and wheels', 'car_10': 'a drawing of a car', 'cat_1': 'a black and white drawing of a cat', 'cat_2': 'a black and white drawing of a cat', 'cat_3': \"a drawing of a cat ' s face\", 'cat_4': 'a black and white drawing of a cat', 'cat_5': 'a drawing of a fish', 'cat_6': 'a black and white drawing of a cat', 'cat_7': \"a drawing of a cat ' s face\", 'cycle_1': 'a bicycle with a wheel on the front', 'cycle_2': 'a drawing of a bicycle', 'cycle_3': 'a bicycle with a propeller on the front wheel', 'cycle_4': 'a continuous drawing of a bicycle', 'cycle_5': 'a bicycle is shown in the shape of a bicycle', 'cycle_6': 'a bicycle with a bicycle wheel on it', 'plane_1': 'the logo for the new yorks', 'plane_2': 'a drawing of a shoe', 'plane_3': 'a line drawing of a plane', 'plane_4': 'a plane is shown in the shape of a plane', 'plane_5': 'a line drawing of a plane', 'plane_6': 'a black and white drawing of a person laying down', 'plane_7': 'a line drawing of a plane', 'plane_8': 'a plane with a nose drawn on it', 'plane_9': 'a small plane with a propeller and a landing wheel', 'plane_10': 'a drawing of a gun', 'signal_1': 'a line drawing of a person standing on a pole', 'signal_2': 'a traffic light with three lights on it', 'signal_3': 'a traffic light with a white background', 'signal_4': 'a line drawing of a person standing on a pole', 'signal_5': 'a drawing of a person holding a sign', 'signal_6': 'a line drawing of a key'}\n"
     ]
    },
    {
     "name": "stderr",
     "output_type": "stream",
     "text": [
      "\n"
     ]
    }
   ],
   "source": [
    "result = {}\n",
    "\n",
    "for category, sketch in tqdm(sketches, desc=f\"Generating Caption...\"):\n",
    "    inputs = processor(sketch, return_tensors=\"pt\")\n",
    "    outputs = model.generate(**inputs)\n",
    "    caption = processor.decode(outputs[0], skip_special_tokens=True)\n",
    "    result[category] = caption\n",
    "\n",
    "print(result)\n",
    "\n",
    "with open('img2text_baseline.json', 'w+') as f:\n",
    "    json.dump(result, f)"
   ]
  },
  {
   "cell_type": "markdown",
   "id": "cbacaf12-3d7d-4c5f-b76a-2f5f0f3795ed",
   "metadata": {},
   "source": [
    "# Fine Tuning"
   ]
  },
  {
   "cell_type": "markdown",
   "id": "21808758-41ef-499c-a8f2-ddd9fb84a234",
   "metadata": {},
   "source": [
    "## Loading Ground Truth"
   ]
  },
  {
   "cell_type": "code",
   "execution_count": 36,
   "id": "b313a8db-e077-4014-957d-2eb486dedbf8",
   "metadata": {},
   "outputs": [
    {
     "name": "stdout",
     "output_type": "stream",
     "text": [
      "{'bike_1': 'Drawing of the side view of a motorcycle', 'bike_2': 'Isometric view drawing of a police motorcycle', 'bike_3': 'Isometric view drawing of a police motorcycle', 'bike_4': 'Isometric view drawing of a bike', 'bike_5': 'Isometric view drawing of a police motorcycle', 'bike_6': 'Isometric view drawing of a bullet motorcycle', 'bike_7': 'Front view drawing of a motorcycle', 'bike_8': 'Isometric view drawing of a motorcycle', 'bike_9': 'Drawing of a motorcycle', 'car_1': 'Sketch of a car', 'car_2': 'Isometric view drawing of a car', 'car_3': 'Drawing of a sedan car', 'car_4': 'Sketch of a race car with spoilers', 'car_5': 'Front view drawing of a car', 'car_6': 'Side view drawing of a car', 'car_7': 'Drawing of a car', 'car_8': 'Front view of a limousine car', 'car_9': 'Side view sketch of a car', 'car_10': 'Isometric view drawing of a classic car', 'cat_1': 'Sketch of a cat', 'cat_2': 'Outline Drawing of a cat', 'cat_3': \"Drawing of a cat's face\", 'cat_4': 'Side view sketch of a cat looking up', 'cat_5': 'Drawing of a cat', 'cat_6': 'Sketch of a cat', 'cat_7': 'Outline Drawing of a cat', 'cycle_1': 'Sketch of a bicycle', 'cycle_2': 'Sideview sketch of a bicycle', 'cycle_3': 'Sideview drawing of a bicycle', 'cycle_4': 'Sideview drawing of the front half of a bicycle', 'cycle_5': 'Drawing of a bicycle', 'cycle_6': 'Drawing of a bicycle', 'plane_1': 'Drawing of a plane', 'plane_2': 'Sideview drawing of a plane', 'plane_3': 'Sideview sketch of a plane', 'plane_4': 'Drawing of a plane flying', 'plane_5': 'Drawing of a plane flying', 'plane_6': 'Drawing of a plane flying', 'plane_7': 'Drawing of a plane flying', 'plane_8': 'Drawing of a plane flying', 'plane_9': 'Drawing of a plane flying', 'plane_10': 'Drawing of a plane', 'signal_1': 'Sketch of two sets of traffic lights perpendicular to each other', 'signal_2': 'Sketch of a traffic signal', 'signal_3': 'Drawing of a traffic signal with another signal on its side', 'signal_4': 'Sketch of two sets of traffic lights perpendicular to each other', 'signal_5': 'Drawing of a signal', 'signal_6': 'Drawing of a signal'}\n"
     ]
    }
   ],
   "source": [
    "ground_truth_captions = json.load(open(config[\"ground_truth\"]))\n",
    "print(ground_truth_captions)"
   ]
  },
  {
   "cell_type": "markdown",
   "id": "8ffce3ef-a5d1-43d7-bf1e-9b1a2c80f32d",
   "metadata": {},
   "source": [
    "## Prepare Dataset"
   ]
  },
  {
   "cell_type": "code",
   "execution_count": 37,
   "id": "33420b7b-45f9-4dad-bbd9-e22b203d91f4",
   "metadata": {},
   "outputs": [],
   "source": [
    "dataset = []\n",
    "\n",
    "for name, image in sketches:\n",
    "    dataset.append({\n",
    "        \"image\": image,\n",
    "        \"text\": ground_truth_captions[name]\n",
    "    })\n",
    "\n",
    "\n",
    "dataset = Dataset.from_list(dataset)"
   ]
  },
  {
   "cell_type": "code",
   "execution_count": 38,
   "id": "48f83dbd-0af3-4cb1-b5f8-3690ca4df865",
   "metadata": {},
   "outputs": [],
   "source": [
    "class ImageCaptioningDataset(Dataset):\n",
    "    def __init__(self, dataset, processor):\n",
    "        self.dataset = dataset\n",
    "        self.processor = processor\n",
    "\n",
    "    def __len__(self):\n",
    "        return len(self.dataset)\n",
    "\n",
    "    def __getitem__(self, idx):\n",
    "        item = self.dataset[idx]\n",
    "        encoding = self.processor(images=item[\"image\"], text=item[\"text\"], padding=\"max_length\", return_tensors=\"pt\")\n",
    "        # remove batch dimension\n",
    "        encoding = {k:v.squeeze() for k,v in encoding.items()}\n",
    "        return encoding"
   ]
  },
  {
   "cell_type": "code",
   "execution_count": 39,
   "id": "3d8c211a-d631-49df-9a76-74c240be0216",
   "metadata": {},
   "outputs": [],
   "source": [
    "train_dataset = ImageCaptioningDataset(dataset, processor)\n",
    "train_dataloader = DataLoader(train_dataset, shuffle=True, batch_size=2)"
   ]
  },
  {
   "cell_type": "markdown",
   "id": "0561b286-6f7f-42aa-8a15-a9701c289ac1",
   "metadata": {},
   "source": [
    "## Training"
   ]
  },
  {
   "cell_type": "code",
   "execution_count": 40,
   "id": "2ef412b5-ecd5-43af-9446-32d8582049d3",
   "metadata": {},
   "outputs": [
    {
     "data": {
      "text/plain": [
       "BlipForConditionalGeneration(\n",
       "  (vision_model): BlipVisionModel(\n",
       "    (embeddings): BlipVisionEmbeddings(\n",
       "      (patch_embedding): Conv2d(3, 768, kernel_size=(16, 16), stride=(16, 16))\n",
       "    )\n",
       "    (encoder): BlipEncoder(\n",
       "      (layers): ModuleList(\n",
       "        (0-11): 12 x BlipEncoderLayer(\n",
       "          (self_attn): BlipAttention(\n",
       "            (dropout): Dropout(p=0.0, inplace=False)\n",
       "            (qkv): Linear(in_features=768, out_features=2304, bias=True)\n",
       "            (projection): Linear(in_features=768, out_features=768, bias=True)\n",
       "          )\n",
       "          (layer_norm1): LayerNorm((768,), eps=1e-05, elementwise_affine=True)\n",
       "          (mlp): BlipMLP(\n",
       "            (activation_fn): GELUActivation()\n",
       "            (fc1): Linear(in_features=768, out_features=3072, bias=True)\n",
       "            (fc2): Linear(in_features=3072, out_features=768, bias=True)\n",
       "          )\n",
       "          (layer_norm2): LayerNorm((768,), eps=1e-05, elementwise_affine=True)\n",
       "        )\n",
       "      )\n",
       "    )\n",
       "    (post_layernorm): LayerNorm((768,), eps=1e-05, elementwise_affine=True)\n",
       "  )\n",
       "  (text_decoder): BlipTextLMHeadModel(\n",
       "    (bert): BlipTextModel(\n",
       "      (embeddings): BlipTextEmbeddings(\n",
       "        (word_embeddings): Embedding(30524, 768, padding_idx=0)\n",
       "        (position_embeddings): Embedding(512, 768)\n",
       "        (LayerNorm): LayerNorm((768,), eps=1e-12, elementwise_affine=True)\n",
       "        (dropout): Dropout(p=0.0, inplace=False)\n",
       "      )\n",
       "      (encoder): BlipTextEncoder(\n",
       "        (layer): ModuleList(\n",
       "          (0-11): 12 x BlipTextLayer(\n",
       "            (attention): BlipTextAttention(\n",
       "              (self): BlipTextSelfAttention(\n",
       "                (query): Linear(in_features=768, out_features=768, bias=True)\n",
       "                (key): Linear(in_features=768, out_features=768, bias=True)\n",
       "                (value): Linear(in_features=768, out_features=768, bias=True)\n",
       "                (dropout): Dropout(p=0.0, inplace=False)\n",
       "              )\n",
       "              (output): BlipTextSelfOutput(\n",
       "                (dense): Linear(in_features=768, out_features=768, bias=True)\n",
       "                (LayerNorm): LayerNorm((768,), eps=1e-12, elementwise_affine=True)\n",
       "                (dropout): Dropout(p=0.0, inplace=False)\n",
       "              )\n",
       "            )\n",
       "            (crossattention): BlipTextAttention(\n",
       "              (self): BlipTextSelfAttention(\n",
       "                (query): Linear(in_features=768, out_features=768, bias=True)\n",
       "                (key): Linear(in_features=768, out_features=768, bias=True)\n",
       "                (value): Linear(in_features=768, out_features=768, bias=True)\n",
       "                (dropout): Dropout(p=0.0, inplace=False)\n",
       "              )\n",
       "              (output): BlipTextSelfOutput(\n",
       "                (dense): Linear(in_features=768, out_features=768, bias=True)\n",
       "                (LayerNorm): LayerNorm((768,), eps=1e-12, elementwise_affine=True)\n",
       "                (dropout): Dropout(p=0.0, inplace=False)\n",
       "              )\n",
       "            )\n",
       "            (intermediate): BlipTextIntermediate(\n",
       "              (dense): Linear(in_features=768, out_features=3072, bias=True)\n",
       "              (intermediate_act_fn): GELUActivation()\n",
       "            )\n",
       "            (output): BlipTextOutput(\n",
       "              (dense): Linear(in_features=3072, out_features=768, bias=True)\n",
       "              (LayerNorm): LayerNorm((768,), eps=1e-12, elementwise_affine=True)\n",
       "              (dropout): Dropout(p=0.0, inplace=False)\n",
       "            )\n",
       "          )\n",
       "        )\n",
       "      )\n",
       "    )\n",
       "    (cls): BlipTextOnlyMLMHead(\n",
       "      (predictions): BlipTextLMPredictionHead(\n",
       "        (transform): BlipTextPredictionHeadTransform(\n",
       "          (dense): Linear(in_features=768, out_features=768, bias=True)\n",
       "          (transform_act_fn): GELUActivation()\n",
       "          (LayerNorm): LayerNorm((768,), eps=1e-12, elementwise_affine=True)\n",
       "        )\n",
       "        (decoder): Linear(in_features=768, out_features=30524, bias=True)\n",
       "      )\n",
       "    )\n",
       "  )\n",
       ")"
      ]
     },
     "execution_count": 40,
     "metadata": {},
     "output_type": "execute_result"
    }
   ],
   "source": [
    "torch.cuda.empty_cache()\n",
    "gc.collect()\n",
    "\n",
    "optimizer = torch.optim.AdamW(model.parameters(), lr=5e-5)\n",
    "\n",
    "scaler = torch.amp.GradScaler(\"cuda\")\n",
    "\n",
    "# model.to(DEVICE)\n",
    "model.train()"
   ]
  },
  {
   "cell_type": "code",
   "execution_count": null,
   "id": "21627220-6924-470c-b3ba-ffdf310ce467",
   "metadata": {},
   "outputs": [],
   "source": [
    "for epoch in tqdm(range(config['epochs'])):\n",
    "    optimizer.zero_grad()\n",
    "    print(\"Epoch:\", epoch)\n",
    "    for idx, batch in enumerate(train_dataloader):\n",
    "        # input_ids = batch.pop(\"input_ids\").to(DEVICE)\n",
    "        # pixel_values = batch.pop(\"pixel_values\").to(DEVICE)\n",
    "        input_ids = batch.pop(\"input_ids\")\n",
    "        pixel_values = batch.pop(\"pixel_values\")\n",
    "        print(pixel_values.shape)\n",
    "\n",
    "        outputs = model(input_ids=input_ids,\n",
    "                        pixel_values=pixel_values,\n",
    "                        labels=input_ids)\n",
    "        loss = outputs.loss\n",
    "\n",
    "        print(\"Loss:\", loss.item())\n",
    "\n",
    "        loss.backward()\n",
    "    \n",
    "        optimizer.step()\n",
    "        optimizer.zero_grad()"
   ]
  },
  {
   "cell_type": "code",
   "execution_count": 45,
   "id": "2383b92e-18b5-471f-8290-294c5d0ff791",
   "metadata": {},
   "outputs": [
    {
     "name": "stderr",
     "output_type": "stream",
     "text": [
      "  0%|          | 0/50 [00:00<?, ?it/s]"
     ]
    },
    {
     "name": "stdout",
     "output_type": "stream",
     "text": [
      "Epoch 1/50\n"
     ]
    },
    {
     "name": "stderr",
     "output_type": "stream",
     "text": [
      "\n",
      "0it [00:00, ?it/s]\u001b[A\n",
      "1it [00:09,  9.53s/it]\u001b[A"
     ]
    },
    {
     "name": "stdout",
     "output_type": "stream",
     "text": [
      "Batch 0, Loss: 10.0811\n"
     ]
    },
    {
     "name": "stderr",
     "output_type": "stream",
     "text": [
      "\n",
      "2it [00:19,  9.60s/it]\u001b[A\n",
      "3it [00:28,  9.65s/it]\u001b[A\n",
      "4it [00:38,  9.65s/it]\u001b[A\n",
      "5it [00:48,  9.65s/it]\u001b[A\n",
      "6it [00:57,  9.64s/it]\u001b[A\n",
      "7it [01:07,  9.71s/it]\u001b[A\n",
      "8it [01:17,  9.76s/it]\u001b[A\n",
      "9it [01:27,  9.80s/it]\u001b[A\n",
      "10it [01:37,  9.75s/it]\u001b[A\n",
      "11it [01:46,  9.73s/it]\u001b[A"
     ]
    },
    {
     "name": "stdout",
     "output_type": "stream",
     "text": [
      "Batch 10, Loss: 7.4522\n"
     ]
    },
    {
     "name": "stderr",
     "output_type": "stream",
     "text": [
      "\n",
      "12it [01:56,  9.69s/it]\u001b[A\n",
      "13it [02:06,  9.68s/it]\u001b[A\n",
      "14it [02:15,  9.65s/it]\u001b[A\n",
      "15it [02:25,  9.59s/it]\u001b[A\n",
      "16it [02:34,  9.57s/it]\u001b[A\n",
      "17it [02:43,  9.52s/it]\u001b[A\n",
      "18it [02:53,  9.59s/it]\u001b[A\n",
      "19it [03:03,  9.55s/it]\u001b[A\n",
      "20it [03:12,  9.56s/it]\u001b[A\n",
      "21it [03:22,  9.56s/it]\u001b[A"
     ]
    },
    {
     "name": "stdout",
     "output_type": "stream",
     "text": [
      "Batch 20, Loss: 5.8801\n"
     ]
    },
    {
     "name": "stderr",
     "output_type": "stream",
     "text": [
      "\n",
      "22it [03:32,  9.68s/it]\u001b[A\n",
      "23it [03:42,  9.82s/it]\u001b[A\n",
      "24it [03:52,  9.67s/it]\u001b[A\n",
      "  2%|▏         | 1/50 [03:54<3:11:30, 234.50s/it]"
     ]
    },
    {
     "name": "stdout",
     "output_type": "stream",
     "text": [
      "Epoch 1 Perplexity: 197.4137\n",
      "Epoch 1 Lexical Diversity: 1.0000, Bigram Diversity: 1.0000\n",
      "Epoch 2/50\n"
     ]
    },
    {
     "name": "stderr",
     "output_type": "stream",
     "text": [
      "\n",
      "0it [00:00, ?it/s]\u001b[A\n",
      "1it [00:10, 10.09s/it]\u001b[A"
     ]
    },
    {
     "name": "stdout",
     "output_type": "stream",
     "text": [
      "Batch 0, Loss: 5.3004\n"
     ]
    },
    {
     "name": "stderr",
     "output_type": "stream",
     "text": [
      "\n",
      "2it [00:19,  9.86s/it]\u001b[A\n",
      "3it [00:29,  9.77s/it]\u001b[A\n",
      "4it [00:39,  9.70s/it]\u001b[A\n",
      "5it [00:48,  9.69s/it]\u001b[A\n",
      "6it [00:58,  9.84s/it]\u001b[A\n",
      "7it [01:08,  9.83s/it]\u001b[A\n",
      "8it [01:18,  9.81s/it]\u001b[A\n",
      "9it [01:28,  9.80s/it]\u001b[A\n",
      "10it [01:38,  9.82s/it]\u001b[A\n",
      "11it [01:47,  9.82s/it]\u001b[A"
     ]
    },
    {
     "name": "stdout",
     "output_type": "stream",
     "text": [
      "Batch 10, Loss: 3.7965\n"
     ]
    },
    {
     "name": "stderr",
     "output_type": "stream",
     "text": [
      "\n",
      "12it [01:57,  9.81s/it]\u001b[A\n",
      "13it [02:07,  9.90s/it]\u001b[A\n",
      "14it [02:17,  9.95s/it]\u001b[A\n",
      "15it [02:27,  9.89s/it]\u001b[A\n",
      "16it [02:37,  9.94s/it]\u001b[A\n",
      "17it [02:47,  9.83s/it]\u001b[A\n",
      "18it [02:57,  9.94s/it]\u001b[A\n",
      "19it [03:07,  9.87s/it]\u001b[A\n",
      "20it [03:17,  9.88s/it]\u001b[A\n",
      "21it [03:26,  9.78s/it]\u001b[A"
     ]
    },
    {
     "name": "stdout",
     "output_type": "stream",
     "text": [
      "Batch 20, Loss: 2.3506\n"
     ]
    },
    {
     "name": "stderr",
     "output_type": "stream",
     "text": [
      "\n",
      "22it [03:36,  9.76s/it]\u001b[A\n",
      "23it [03:46,  9.75s/it]\u001b[A\n",
      "24it [03:55,  9.81s/it]\u001b[A\n",
      "  4%|▍         | 2/50 [07:52<3:09:15, 236.57s/it]"
     ]
    },
    {
     "name": "stdout",
     "output_type": "stream",
     "text": [
      "Epoch 2 Perplexity: 6.1897\n",
      "Epoch 2 Lexical Diversity: 1.0000, Bigram Diversity: 1.0000\n",
      "Epoch 3/50\n"
     ]
    },
    {
     "name": "stderr",
     "output_type": "stream",
     "text": [
      "\n",
      "0it [00:00, ?it/s]\u001b[A\n",
      "1it [00:09,  9.55s/it]\u001b[A"
     ]
    },
    {
     "name": "stdout",
     "output_type": "stream",
     "text": [
      "Batch 0, Loss: 1.8273\n"
     ]
    },
    {
     "name": "stderr",
     "output_type": "stream",
     "text": [
      "\n",
      "2it [00:19,  9.88s/it]\u001b[A\n",
      "3it [00:29,  9.65s/it]\u001b[A\n",
      "4it [00:38,  9.70s/it]\u001b[A\n",
      "5it [00:48,  9.71s/it]\u001b[A\n",
      "6it [00:58,  9.70s/it]\u001b[A\n",
      "7it [01:08,  9.86s/it]\u001b[A\n",
      "8it [01:18,  9.96s/it]\u001b[A\n",
      "9it [01:28,  9.86s/it]\u001b[A\n",
      "10it [01:38,  9.94s/it]\u001b[A\n",
      "11it [01:48, 10.14s/it]\u001b[A"
     ]
    },
    {
     "name": "stdout",
     "output_type": "stream",
     "text": [
      "Batch 10, Loss: 0.8222\n"
     ]
    },
    {
     "name": "stderr",
     "output_type": "stream",
     "text": [
      "\n",
      "12it [01:58, 10.00s/it]\u001b[A\n",
      "13it [02:08, 10.07s/it]\u001b[A\n",
      "14it [02:18,  9.94s/it]\u001b[A\n",
      "15it [02:28,  9.99s/it]\u001b[A\n",
      "16it [02:38, 10.04s/it]\u001b[A\n",
      "17it [02:48,  9.94s/it]\u001b[A\n",
      "18it [02:58,  9.83s/it]\u001b[A\n",
      "19it [03:08,  9.93s/it]\u001b[A\n",
      "20it [03:18,  9.93s/it]\u001b[A\n",
      "21it [03:28,  9.96s/it]\u001b[A"
     ]
    },
    {
     "name": "stdout",
     "output_type": "stream",
     "text": [
      "Batch 20, Loss: 0.3537\n"
     ]
    },
    {
     "name": "stderr",
     "output_type": "stream",
     "text": [
      "\n",
      "22it [03:37,  9.91s/it]\u001b[A\n",
      "23it [03:47,  9.91s/it]\u001b[A\n",
      "24it [03:57,  9.91s/it]\u001b[A\n",
      "  6%|▌         | 3/50 [11:52<3:06:39, 238.29s/it]"
     ]
    },
    {
     "name": "stdout",
     "output_type": "stream",
     "text": [
      "Epoch 3 Perplexity: 1.2928\n",
      "Epoch 3 Lexical Diversity: 0.9958, Bigram Diversity: 0.9977\n",
      "Epoch 4/50\n"
     ]
    },
    {
     "name": "stderr",
     "output_type": "stream",
     "text": [
      "\n",
      "0it [00:00, ?it/s]\u001b[A\n",
      "1it [00:09,  9.95s/it]\u001b[A"
     ]
    },
    {
     "name": "stdout",
     "output_type": "stream",
     "text": [
      "Batch 0, Loss: 0.2563\n"
     ]
    },
    {
     "name": "stderr",
     "output_type": "stream",
     "text": [
      "\n",
      "2it [00:19, 10.00s/it]\u001b[A\n",
      "3it [00:29,  9.94s/it]\u001b[A\n",
      "4it [00:39,  9.93s/it]\u001b[A\n",
      "5it [00:49,  9.84s/it]\u001b[A\n",
      "6it [00:59,  9.87s/it]\u001b[A\n",
      "7it [01:09,  9.87s/it]\u001b[A\n",
      "8it [01:19,  9.96s/it]\u001b[A\n",
      "9it [01:29,  9.94s/it]\u001b[A\n",
      "10it [01:38,  9.85s/it]\u001b[A\n",
      "11it [01:48,  9.91s/it]\u001b[A"
     ]
    },
    {
     "name": "stdout",
     "output_type": "stream",
     "text": [
      "Batch 10, Loss: 0.1412\n"
     ]
    },
    {
     "name": "stderr",
     "output_type": "stream",
     "text": [
      "\n",
      "12it [01:58,  9.79s/it]\u001b[A\n",
      "13it [02:08,  9.86s/it]\u001b[A\n",
      "14it [02:18,  9.79s/it]\u001b[A\n",
      "15it [02:27,  9.75s/it]\u001b[A\n",
      "16it [02:37,  9.72s/it]\u001b[A\n",
      "17it [02:47,  9.78s/it]\u001b[A\n",
      "18it [02:57,  9.84s/it]\u001b[A\n",
      "19it [03:06,  9.76s/it]\u001b[A\n",
      "20it [03:17,  9.87s/it]\u001b[A\n",
      "21it [03:26,  9.87s/it]\u001b[A"
     ]
    },
    {
     "name": "stdout",
     "output_type": "stream",
     "text": [
      "Batch 20, Loss: 0.0988\n"
     ]
    },
    {
     "name": "stderr",
     "output_type": "stream",
     "text": [
      "\n",
      "22it [03:36,  9.84s/it]\u001b[A\n",
      "23it [03:46,  9.97s/it]\u001b[A\n",
      "24it [03:57,  9.88s/it]\u001b[A\n",
      "  8%|▊         | 4/50 [15:52<3:03:03, 238.76s/it]"
     ]
    },
    {
     "name": "stdout",
     "output_type": "stream",
     "text": [
      "Epoch 4 Perplexity: 1.0927\n",
      "Epoch 4 Lexical Diversity: 0.9940, Bigram Diversity: 1.0000\n",
      "Epoch 5/50\n"
     ]
    },
    {
     "name": "stderr",
     "output_type": "stream",
     "text": [
      "\n",
      "0it [00:00, ?it/s]\u001b[A\n",
      "1it [00:09,  9.56s/it]\u001b[A"
     ]
    },
    {
     "name": "stdout",
     "output_type": "stream",
     "text": [
      "Batch 0, Loss: 0.0864\n"
     ]
    },
    {
     "name": "stderr",
     "output_type": "stream",
     "text": [
      "\n",
      "2it [00:19,  9.79s/it]\u001b[A\n",
      "3it [00:29,  9.66s/it]\u001b[A\n",
      "4it [00:38,  9.67s/it]\u001b[A\n",
      "5it [00:48,  9.70s/it]\u001b[A\n",
      "6it [00:57,  9.62s/it]\u001b[A\n",
      "7it [01:07,  9.75s/it]\u001b[A\n",
      "8it [01:17,  9.66s/it]\u001b[A\n",
      "9it [01:27,  9.65s/it]\u001b[A\n",
      "10it [01:37,  9.79s/it]\u001b[A\n",
      "11it [01:47,  9.85s/it]\u001b[A"
     ]
    },
    {
     "name": "stdout",
     "output_type": "stream",
     "text": [
      "Batch 10, Loss: 0.0678\n"
     ]
    },
    {
     "name": "stderr",
     "output_type": "stream",
     "text": [
      "\n",
      "12it [01:57,  9.94s/it]\u001b[A\n",
      "13it [02:06,  9.84s/it]\u001b[A\n",
      "14it [02:16,  9.71s/it]\u001b[A\n",
      "15it [02:25,  9.66s/it]\u001b[A\n",
      "16it [02:35,  9.59s/it]\u001b[A\n",
      "17it [02:44,  9.62s/it]\u001b[A\n",
      "18it [02:54,  9.65s/it]\u001b[A\n",
      "19it [03:04,  9.75s/it]\u001b[A\n",
      "20it [03:14,  9.82s/it]\u001b[A\n",
      "21it [03:24,  9.84s/it]\u001b[A"
     ]
    },
    {
     "name": "stdout",
     "output_type": "stream",
     "text": [
      "Batch 20, Loss: 0.0596\n"
     ]
    },
    {
     "name": "stderr",
     "output_type": "stream",
     "text": [
      "\n",
      "22it [03:34,  9.89s/it]\u001b[A\n",
      "23it [03:45, 10.11s/it]\u001b[A\n",
      "24it [03:55,  9.79s/it]\u001b[A\n",
      " 10%|█         | 5/50 [19:49<2:58:43, 238.29s/it]"
     ]
    },
    {
     "name": "stdout",
     "output_type": "stream",
     "text": [
      "Epoch 5 Perplexity: 1.0555\n",
      "Epoch 5 Lexical Diversity: 0.9949, Bigram Diversity: 1.0000\n",
      "Epoch 6/50\n"
     ]
    },
    {
     "name": "stderr",
     "output_type": "stream",
     "text": [
      "\n",
      "0it [00:00, ?it/s]\u001b[A\n",
      "1it [00:10, 10.20s/it]\u001b[A"
     ]
    },
    {
     "name": "stdout",
     "output_type": "stream",
     "text": [
      "Batch 0, Loss: 0.0539\n"
     ]
    },
    {
     "name": "stderr",
     "output_type": "stream",
     "text": [
      "\n",
      "2it [00:20, 10.10s/it]\u001b[A\n",
      "3it [00:30, 10.02s/it]\u001b[A\n",
      "4it [00:40, 10.01s/it]\u001b[A\n",
      "5it [00:49,  9.90s/it]\u001b[A\n",
      "6it [00:59,  9.96s/it]\u001b[A\n",
      "7it [01:09,  9.83s/it]\u001b[A\n",
      "8it [01:19,  9.80s/it]\u001b[A\n",
      "9it [01:29,  9.80s/it]\u001b[A\n",
      "10it [01:38,  9.74s/it]\u001b[A\n",
      "11it [01:48,  9.75s/it]\u001b[A"
     ]
    },
    {
     "name": "stdout",
     "output_type": "stream",
     "text": [
      "Batch 10, Loss: 0.0485\n"
     ]
    },
    {
     "name": "stderr",
     "output_type": "stream",
     "text": [
      "\n",
      "12it [01:58,  9.78s/it]\u001b[A\n",
      "13it [02:08,  9.81s/it]\u001b[A\n",
      "14it [02:18,  9.85s/it]\u001b[A\n",
      "15it [02:28, 10.15s/it]\u001b[A\n",
      "16it [02:38,  9.96s/it]\u001b[A\n",
      "17it [02:47,  9.81s/it]\u001b[A\n",
      "18it [02:57,  9.78s/it]\u001b[A\n",
      "19it [03:07,  9.77s/it]\u001b[A\n",
      "20it [03:17,  9.74s/it]\u001b[A\n",
      "21it [03:27, 10.06s/it]\u001b[A"
     ]
    },
    {
     "name": "stdout",
     "output_type": "stream",
     "text": [
      "Batch 20, Loss: 0.0440\n"
     ]
    },
    {
     "name": "stderr",
     "output_type": "stream",
     "text": [
      "\n",
      "22it [03:37, 10.00s/it]\u001b[A\n",
      "23it [03:47, 10.03s/it]\u001b[A\n",
      "24it [03:57,  9.90s/it]\u001b[A\n",
      " 12%|█▏        | 6/50 [23:50<2:55:13, 238.94s/it]"
     ]
    },
    {
     "name": "stdout",
     "output_type": "stream",
     "text": [
      "Epoch 6 Perplexity: 1.0398\n",
      "Epoch 6 Lexical Diversity: 0.9962, Bigram Diversity: 1.0000\n",
      "Epoch 7/50\n"
     ]
    },
    {
     "name": "stderr",
     "output_type": "stream",
     "text": [
      "\n",
      "0it [00:00, ?it/s]\u001b[A\n",
      "1it [00:10, 10.09s/it]\u001b[A"
     ]
    },
    {
     "name": "stdout",
     "output_type": "stream",
     "text": [
      "Batch 0, Loss: 0.0389\n"
     ]
    },
    {
     "name": "stderr",
     "output_type": "stream",
     "text": [
      "\n",
      "2it [00:20, 10.13s/it]\u001b[A\n",
      "3it [00:30, 10.12s/it]\u001b[A\n",
      "4it [00:40, 10.12s/it]\u001b[A\n",
      "5it [00:49,  9.87s/it]\u001b[A\n",
      "6it [00:59,  9.69s/it]\u001b[A\n",
      "7it [01:08,  9.58s/it]\u001b[A\n",
      "8it [01:18,  9.71s/it]\u001b[A\n",
      "9it [01:28,  9.71s/it]\u001b[A\n",
      "10it [01:37,  9.70s/it]\u001b[A\n",
      "11it [01:47,  9.65s/it]\u001b[A"
     ]
    },
    {
     "name": "stdout",
     "output_type": "stream",
     "text": [
      "Batch 10, Loss: 0.0411\n"
     ]
    },
    {
     "name": "stderr",
     "output_type": "stream",
     "text": [
      "\n",
      "12it [01:57,  9.62s/it]\u001b[A\n",
      "13it [02:07, 10.01s/it]\u001b[A\n",
      "14it [02:17, 10.01s/it]\u001b[A\n",
      "15it [02:28, 10.03s/it]\u001b[A\n",
      "16it [02:37,  9.95s/it]\u001b[A\n",
      "17it [02:47,  9.99s/it]\u001b[A\n",
      "18it [02:57, 10.00s/it]\u001b[A\n",
      "19it [03:08, 10.19s/it]\u001b[A\n",
      "20it [03:18, 10.04s/it]\u001b[A\n",
      "21it [03:29, 10.26s/it]\u001b[A"
     ]
    },
    {
     "name": "stdout",
     "output_type": "stream",
     "text": [
      "Batch 20, Loss: 0.0321\n"
     ]
    },
    {
     "name": "stderr",
     "output_type": "stream",
     "text": [
      "\n",
      "22it [03:38, 10.09s/it]\u001b[A\n",
      "23it [03:48, 10.07s/it]\u001b[A\n",
      "24it [03:58,  9.94s/it]\u001b[A\n",
      " 14%|█▍        | 7/50 [27:51<2:51:44, 239.63s/it]"
     ]
    },
    {
     "name": "stdout",
     "output_type": "stream",
     "text": [
      "Epoch 7 Perplexity: 1.0335\n",
      "Epoch 7 Lexical Diversity: 0.9943, Bigram Diversity: 1.0000\n",
      "Epoch 8/50\n"
     ]
    },
    {
     "name": "stderr",
     "output_type": "stream",
     "text": [
      "\n",
      "0it [00:00, ?it/s]\u001b[A\n",
      "1it [00:10, 10.79s/it]\u001b[A"
     ]
    },
    {
     "name": "stdout",
     "output_type": "stream",
     "text": [
      "Batch 0, Loss: 0.0308\n"
     ]
    },
    {
     "name": "stderr",
     "output_type": "stream",
     "text": [
      "\n",
      "2it [00:20, 10.15s/it]\u001b[A\n",
      "3it [00:30,  9.98s/it]\u001b[A\n",
      "4it [00:39,  9.77s/it]\u001b[A\n",
      "5it [00:49,  9.81s/it]\u001b[A\n",
      "6it [00:59,  9.85s/it]\u001b[A\n",
      "7it [01:09,  9.95s/it]\u001b[A\n",
      "8it [01:19, 10.06s/it]\u001b[A\n",
      "9it [01:30, 10.10s/it]\u001b[A\n",
      "10it [01:40, 10.08s/it]\u001b[A\n",
      "11it [01:50, 10.14s/it]\u001b[A"
     ]
    },
    {
     "name": "stdout",
     "output_type": "stream",
     "text": [
      "Batch 10, Loss: 0.0350\n"
     ]
    },
    {
     "name": "stderr",
     "output_type": "stream",
     "text": [
      "\n",
      "12it [02:00, 10.09s/it]\u001b[A\n",
      "13it [02:10, 10.01s/it]\u001b[A\n",
      "14it [02:20,  9.99s/it]\u001b[A\n",
      "15it [02:30,  9.93s/it]\u001b[A\n",
      "16it [02:39,  9.81s/it]\u001b[A\n",
      "17it [02:49,  9.81s/it]\u001b[A\n",
      "18it [02:59,  9.81s/it]\u001b[A\n",
      "19it [03:09,  9.92s/it]\u001b[A\n",
      "20it [03:19,  9.88s/it]\u001b[A\n",
      "21it [03:28,  9.86s/it]\u001b[A"
     ]
    },
    {
     "name": "stdout",
     "output_type": "stream",
     "text": [
      "Batch 20, Loss: 0.0274\n"
     ]
    },
    {
     "name": "stderr",
     "output_type": "stream",
     "text": [
      "\n",
      "22it [03:38,  9.73s/it]\u001b[A\n",
      "23it [03:48,  9.88s/it]\u001b[A\n",
      "24it [03:59,  9.98s/it]\u001b[A\n",
      " 16%|█▌        | 8/50 [31:53<2:48:15, 240.38s/it]"
     ]
    },
    {
     "name": "stdout",
     "output_type": "stream",
     "text": [
      "Epoch 8 Perplexity: 1.0259\n",
      "Epoch 8 Lexical Diversity: 0.9962, Bigram Diversity: 1.0000\n",
      "Epoch 9/50\n"
     ]
    },
    {
     "name": "stderr",
     "output_type": "stream",
     "text": [
      "\n",
      "0it [00:00, ?it/s]\u001b[A\n",
      "1it [00:10, 10.73s/it]\u001b[A"
     ]
    },
    {
     "name": "stdout",
     "output_type": "stream",
     "text": [
      "Batch 0, Loss: 0.0248\n"
     ]
    },
    {
     "name": "stderr",
     "output_type": "stream",
     "text": [
      "\n",
      "2it [00:20, 10.44s/it]\u001b[A\n",
      "3it [00:31, 10.32s/it]\u001b[A\n",
      "4it [00:40, 10.12s/it]\u001b[A\n",
      "5it [00:51, 10.18s/it]\u001b[A\n",
      "6it [01:01, 10.12s/it]\u001b[A\n",
      "7it [01:11, 10.32s/it]\u001b[A\n",
      "8it [01:21, 10.21s/it]\u001b[A\n",
      "9it [01:32, 10.38s/it]\u001b[A\n",
      "10it [01:42, 10.24s/it]\u001b[A\n",
      "11it [01:52, 10.15s/it]\u001b[A"
     ]
    },
    {
     "name": "stdout",
     "output_type": "stream",
     "text": [
      "Batch 10, Loss: 0.0236\n"
     ]
    },
    {
     "name": "stderr",
     "output_type": "stream",
     "text": [
      "\n",
      "12it [02:02, 10.08s/it]\u001b[A\n",
      "13it [02:12, 10.06s/it]\u001b[A\n",
      "14it [02:22, 10.01s/it]\u001b[A\n",
      "15it [02:32, 10.00s/it]\u001b[A\n",
      "16it [02:42,  9.99s/it]\u001b[A\n",
      "17it [02:52, 10.06s/it]\u001b[A\n",
      "18it [03:02,  9.91s/it]\u001b[A\n",
      "19it [03:11,  9.84s/it]\u001b[A\n",
      "20it [03:21,  9.81s/it]\u001b[A\n",
      "21it [03:31,  9.72s/it]\u001b[A"
     ]
    },
    {
     "name": "stdout",
     "output_type": "stream",
     "text": [
      "Batch 20, Loss: 0.0220\n"
     ]
    },
    {
     "name": "stderr",
     "output_type": "stream",
     "text": [
      "\n",
      "22it [03:40,  9.76s/it]\u001b[A\n",
      "23it [03:50,  9.77s/it]\u001b[A\n",
      "24it [04:00, 10.01s/it]\u001b[A\n",
      " 18%|█▊        | 9/50 [35:55<2:44:45, 241.11s/it]"
     ]
    },
    {
     "name": "stdout",
     "output_type": "stream",
     "text": [
      "Epoch 9 Perplexity: 1.0240\n",
      "Epoch 9 Lexical Diversity: 0.9943, Bigram Diversity: 1.0000\n",
      "Epoch 10/50\n"
     ]
    },
    {
     "name": "stderr",
     "output_type": "stream",
     "text": [
      "\n",
      "0it [00:00, ?it/s]\u001b[A\n",
      "1it [00:10, 10.15s/it]\u001b[A"
     ]
    },
    {
     "name": "stdout",
     "output_type": "stream",
     "text": [
      "Batch 0, Loss: 0.0235\n"
     ]
    },
    {
     "name": "stderr",
     "output_type": "stream",
     "text": [
      "\n",
      "2it [00:19,  9.85s/it]\u001b[A\n",
      "3it [00:29,  9.89s/it]\u001b[A\n",
      "4it [00:39,  9.97s/it]\u001b[A\n",
      "5it [00:49,  9.96s/it]\u001b[A\n",
      "6it [00:59,  9.95s/it]\u001b[A\n",
      "7it [01:09, 10.00s/it]\u001b[A\n",
      "8it [01:19, 10.05s/it]\u001b[A\n",
      "9it [01:29, 10.01s/it]\u001b[A\n",
      "10it [01:39,  9.98s/it]\u001b[A\n",
      "11it [01:50, 10.25s/it]\u001b[A"
     ]
    },
    {
     "name": "stdout",
     "output_type": "stream",
     "text": [
      "Batch 10, Loss: 0.0196\n"
     ]
    },
    {
     "name": "stderr",
     "output_type": "stream",
     "text": [
      "\n",
      "12it [02:00, 10.13s/it]\u001b[A\n",
      "13it [02:10, 10.07s/it]\u001b[A\n",
      "14it [02:20, 10.17s/it]\u001b[A\n",
      "15it [02:30, 10.09s/it]\u001b[A\n",
      "16it [02:40, 10.05s/it]\u001b[A\n",
      "17it [02:50, 10.03s/it]\u001b[A\n",
      "18it [03:00,  9.90s/it]\u001b[A\n",
      "19it [03:10,  9.87s/it]\u001b[A\n",
      "20it [03:20,  9.89s/it]\u001b[A\n",
      "21it [03:30, 10.13s/it]\u001b[A"
     ]
    },
    {
     "name": "stdout",
     "output_type": "stream",
     "text": [
      "Batch 20, Loss: 0.0214\n"
     ]
    },
    {
     "name": "stderr",
     "output_type": "stream",
     "text": [
      "\n",
      "22it [03:40,  9.98s/it]\u001b[A\n",
      "23it [03:49,  9.82s/it]\u001b[A\n",
      "24it [03:59,  9.98s/it]\u001b[A\n",
      " 20%|██        | 10/50 [39:57<2:40:54, 241.37s/it]"
     ]
    },
    {
     "name": "stdout",
     "output_type": "stream",
     "text": [
      "Epoch 10 Perplexity: 1.0206\n",
      "Epoch 10 Lexical Diversity: 0.9962, Bigram Diversity: 1.0000\n",
      "Epoch 11/50\n"
     ]
    },
    {
     "name": "stderr",
     "output_type": "stream",
     "text": [
      "\n",
      "0it [00:00, ?it/s]\u001b[A\n",
      "1it [00:09,  9.63s/it]\u001b[A"
     ]
    },
    {
     "name": "stdout",
     "output_type": "stream",
     "text": [
      "Batch 0, Loss: 0.0173\n"
     ]
    },
    {
     "name": "stderr",
     "output_type": "stream",
     "text": [
      "\n",
      "2it [00:19,  9.81s/it]\u001b[A\n",
      "3it [00:29,  9.71s/it]\u001b[A\n",
      "4it [00:38,  9.71s/it]\u001b[A\n",
      "5it [00:48,  9.79s/it]\u001b[A\n",
      "6it [00:59,  9.97s/it]\u001b[A\n",
      "7it [01:08,  9.89s/it]\u001b[A\n",
      "8it [01:19, 10.17s/it]\u001b[A\n",
      "9it [01:29, 10.09s/it]\u001b[A\n",
      "10it [01:38,  9.89s/it]\u001b[A\n",
      "11it [01:49,  9.95s/it]\u001b[A"
     ]
    },
    {
     "name": "stdout",
     "output_type": "stream",
     "text": [
      "Batch 10, Loss: 0.0171\n"
     ]
    },
    {
     "name": "stderr",
     "output_type": "stream",
     "text": [
      "\n",
      "12it [01:59, 10.16s/it]\u001b[A\n",
      "13it [02:09, 10.19s/it]\u001b[A\n",
      "14it [02:20, 10.19s/it]\u001b[A\n",
      "15it [02:30, 10.09s/it]\u001b[A\n",
      "16it [02:39, 10.03s/it]\u001b[A\n",
      "17it [02:49, 10.04s/it]\u001b[A\n",
      "18it [02:59,  9.95s/it]\u001b[A\n",
      "19it [03:09,  9.85s/it]\u001b[A\n",
      "20it [03:19,  9.87s/it]\u001b[A\n",
      "21it [03:28,  9.84s/it]\u001b[A"
     ]
    },
    {
     "name": "stdout",
     "output_type": "stream",
     "text": [
      "Batch 20, Loss: 0.0188\n"
     ]
    },
    {
     "name": "stderr",
     "output_type": "stream",
     "text": [
      "\n",
      "22it [03:39, 10.04s/it]\u001b[A\n",
      "23it [03:49, 10.02s/it]\u001b[A\n",
      "24it [03:58,  9.96s/it]\u001b[A\n",
      " 22%|██▏       | 11/50 [43:59<2:36:54, 241.40s/it]"
     ]
    },
    {
     "name": "stdout",
     "output_type": "stream",
     "text": [
      "Epoch 11 Perplexity: 1.0182\n",
      "Epoch 11 Lexical Diversity: 0.9941, Bigram Diversity: 1.0000\n",
      "Epoch 12/50\n"
     ]
    },
    {
     "name": "stderr",
     "output_type": "stream",
     "text": [
      "\n",
      "0it [00:00, ?it/s]\u001b[A\n",
      "1it [00:09,  9.91s/it]\u001b[A"
     ]
    },
    {
     "name": "stdout",
     "output_type": "stream",
     "text": [
      "Batch 0, Loss: 0.0203\n"
     ]
    },
    {
     "name": "stderr",
     "output_type": "stream",
     "text": [
      "\n",
      "2it [00:19,  9.79s/it]\u001b[A\n",
      "3it [00:29,  9.83s/it]\u001b[A\n",
      "4it [00:38,  9.70s/it]\u001b[A\n",
      "5it [00:48,  9.67s/it]\u001b[A\n",
      "6it [00:59, 10.01s/it]\u001b[A\n",
      "7it [01:08,  9.87s/it]\u001b[A\n",
      "8it [01:19,  9.98s/it]\u001b[A\n",
      "9it [01:28,  9.96s/it]\u001b[A\n",
      "10it [01:38,  9.95s/it]\u001b[A\n",
      "11it [01:48,  9.94s/it]\u001b[A"
     ]
    },
    {
     "name": "stdout",
     "output_type": "stream",
     "text": [
      "Batch 10, Loss: 0.0162\n"
     ]
    },
    {
     "name": "stderr",
     "output_type": "stream",
     "text": [
      "\n",
      "12it [01:58,  9.97s/it]\u001b[A\n",
      "13it [02:09, 10.07s/it]\u001b[A\n",
      "14it [02:20, 10.32s/it]\u001b[A\n",
      "15it [02:30, 10.23s/it]\u001b[A\n",
      "16it [02:39, 10.12s/it]\u001b[A\n",
      "17it [02:49, 10.01s/it]\u001b[A\n",
      "18it [02:59,  9.99s/it]\u001b[A\n",
      "19it [03:09,  9.92s/it]\u001b[A\n",
      "20it [03:19, 10.00s/it]\u001b[A\n",
      "21it [03:29,  9.90s/it]\u001b[A"
     ]
    },
    {
     "name": "stdout",
     "output_type": "stream",
     "text": [
      "Batch 20, Loss: 0.0131\n"
     ]
    },
    {
     "name": "stderr",
     "output_type": "stream",
     "text": [
      "\n",
      "22it [03:39,  9.97s/it]\u001b[A\n",
      "23it [03:49,  9.91s/it]\u001b[A\n",
      "24it [03:59,  9.97s/it]\u001b[A\n",
      " 24%|██▍       | 12/50 [48:00<2:32:57, 241.51s/it]"
     ]
    },
    {
     "name": "stdout",
     "output_type": "stream",
     "text": [
      "Epoch 12 Perplexity: 1.0137\n",
      "Epoch 12 Lexical Diversity: 0.9943, Bigram Diversity: 1.0000\n",
      "Epoch 13/50\n"
     ]
    },
    {
     "name": "stderr",
     "output_type": "stream",
     "text": [
      "\n",
      "0it [00:00, ?it/s]\u001b[A\n",
      "1it [00:10, 10.12s/it]\u001b[A"
     ]
    },
    {
     "name": "stdout",
     "output_type": "stream",
     "text": [
      "Batch 0, Loss: 0.0150\n"
     ]
    },
    {
     "name": "stderr",
     "output_type": "stream",
     "text": [
      "\n",
      "2it [00:20, 10.52s/it]\u001b[A\n",
      "3it [00:30, 10.25s/it]\u001b[A\n",
      "4it [00:40,  9.96s/it]\u001b[A\n",
      "5it [00:50,  9.99s/it]\u001b[A\n",
      "6it [01:00,  9.98s/it]\u001b[A\n",
      "7it [01:09,  9.81s/it]\u001b[A\n",
      "8it [01:19,  9.70s/it]\u001b[A\n",
      "9it [01:29,  9.83s/it]\u001b[A\n",
      "10it [01:40, 10.13s/it]\u001b[A\n",
      "11it [01:50, 10.16s/it]\u001b[A"
     ]
    },
    {
     "name": "stdout",
     "output_type": "stream",
     "text": [
      "Batch 10, Loss: 0.0152\n"
     ]
    },
    {
     "name": "stderr",
     "output_type": "stream",
     "text": [
      "\n",
      "12it [02:00, 10.19s/it]\u001b[A\n",
      "13it [02:10, 10.04s/it]\u001b[A\n",
      "14it [02:20,  9.93s/it]\u001b[A\n",
      "15it [02:30, 10.04s/it]\u001b[A\n",
      "16it [02:40, 10.09s/it]\u001b[A\n",
      "17it [02:50,  9.99s/it]\u001b[A\n",
      "18it [03:00, 10.03s/it]\u001b[A\n",
      "19it [03:10,  9.97s/it]\u001b[A\n",
      "20it [03:20, 10.05s/it]\u001b[A\n",
      "21it [03:30,  9.99s/it]\u001b[A"
     ]
    },
    {
     "name": "stdout",
     "output_type": "stream",
     "text": [
      "Batch 20, Loss: 0.0137\n"
     ]
    },
    {
     "name": "stderr",
     "output_type": "stream",
     "text": [
      "\n",
      "22it [03:40,  9.93s/it]\u001b[A\n",
      "23it [03:49,  9.90s/it]\u001b[A\n",
      "24it [04:00, 10.03s/it]\u001b[A\n",
      " 26%|██▌       | 13/50 [52:04<2:29:14, 242.00s/it]"
     ]
    },
    {
     "name": "stdout",
     "output_type": "stream",
     "text": [
      "Epoch 13 Perplexity: 1.0122\n",
      "Epoch 13 Lexical Diversity: 0.9943, Bigram Diversity: 1.0000\n",
      "Epoch 14/50\n"
     ]
    },
    {
     "name": "stderr",
     "output_type": "stream",
     "text": [
      "\n",
      "0it [00:00, ?it/s]\u001b[A\n",
      "1it [00:09,  9.94s/it]\u001b[A"
     ]
    },
    {
     "name": "stdout",
     "output_type": "stream",
     "text": [
      "Batch 0, Loss: 0.0125\n"
     ]
    },
    {
     "name": "stderr",
     "output_type": "stream",
     "text": [
      "\n",
      "2it [00:19,  9.93s/it]\u001b[A\n",
      "3it [00:29, 10.02s/it]\u001b[A\n",
      "4it [00:40, 10.34s/it]\u001b[A\n",
      "5it [00:50, 10.16s/it]\u001b[A\n",
      "6it [01:00, 10.13s/it]\u001b[A\n",
      "7it [01:11, 10.19s/it]\u001b[A\n",
      "8it [01:21, 10.21s/it]\u001b[A\n",
      "9it [01:31, 10.08s/it]\u001b[A\n",
      "10it [01:41, 10.08s/it]\u001b[A\n",
      "11it [01:50,  9.98s/it]\u001b[A"
     ]
    },
    {
     "name": "stdout",
     "output_type": "stream",
     "text": [
      "Batch 10, Loss: 0.0121\n"
     ]
    },
    {
     "name": "stderr",
     "output_type": "stream",
     "text": [
      "\n",
      "12it [02:00,  9.84s/it]\u001b[A\n",
      "13it [02:10,  9.93s/it]\u001b[A\n",
      "14it [02:21, 10.19s/it]\u001b[A\n",
      "15it [02:31, 10.04s/it]\u001b[A\n",
      "16it [02:40,  9.92s/it]\u001b[A\n",
      "17it [02:50,  9.89s/it]\u001b[A\n",
      "18it [03:00,  9.99s/it]\u001b[A\n",
      "19it [03:10,  9.87s/it]\u001b[A\n",
      "20it [03:21, 10.15s/it]\u001b[A\n",
      "21it [03:30,  9.96s/it]\u001b[A"
     ]
    },
    {
     "name": "stdout",
     "output_type": "stream",
     "text": [
      "Batch 20, Loss: 0.0135\n"
     ]
    },
    {
     "name": "stderr",
     "output_type": "stream",
     "text": [
      "\n",
      "22it [03:40,  9.88s/it]\u001b[A\n",
      "23it [03:50, 10.00s/it]\u001b[A\n",
      "24it [04:00, 10.03s/it]\u001b[A\n",
      " 28%|██▊       | 14/50 [56:07<2:25:24, 242.35s/it]"
     ]
    },
    {
     "name": "stdout",
     "output_type": "stream",
     "text": [
      "Epoch 14 Perplexity: 1.0105\n",
      "Epoch 14 Lexical Diversity: 0.9943, Bigram Diversity: 1.0000\n",
      "Epoch 15/50\n"
     ]
    },
    {
     "name": "stderr",
     "output_type": "stream",
     "text": [
      "\n",
      "0it [00:00, ?it/s]\u001b[A\n",
      "1it [00:10, 10.83s/it]\u001b[A"
     ]
    },
    {
     "name": "stdout",
     "output_type": "stream",
     "text": [
      "Batch 0, Loss: 0.0098\n"
     ]
    },
    {
     "name": "stderr",
     "output_type": "stream",
     "text": [
      "\n",
      "2it [00:21, 10.49s/it]\u001b[A\n",
      "3it [00:30, 10.11s/it]\u001b[A\n",
      "4it [00:40, 10.16s/it]\u001b[A\n",
      "5it [00:50, 10.09s/it]\u001b[A\n",
      "6it [01:00,  9.99s/it]\u001b[A\n",
      "7it [01:10,  9.91s/it]\u001b[A\n",
      "8it [01:20, 10.02s/it]\u001b[A\n",
      "9it [01:30, 10.06s/it]\u001b[A\n",
      "10it [01:40,  9.96s/it]\u001b[A\n",
      "11it [01:50,  9.95s/it]\u001b[A"
     ]
    },
    {
     "name": "stdout",
     "output_type": "stream",
     "text": [
      "Batch 10, Loss: 0.0108\n"
     ]
    },
    {
     "name": "stderr",
     "output_type": "stream",
     "text": [
      "\n",
      "12it [02:00, 10.00s/it]\u001b[A\n",
      "13it [02:10, 10.05s/it]\u001b[A\n",
      "14it [02:20,  9.97s/it]\u001b[A\n",
      "15it [02:30,  9.94s/it]\u001b[A\n",
      "16it [02:39,  9.80s/it]\u001b[A\n",
      "17it [02:50,  9.95s/it]\u001b[A\n",
      "18it [03:00,  9.97s/it]\u001b[A\n",
      "19it [03:10,  9.98s/it]\u001b[A\n",
      "20it [03:20, 10.03s/it]\u001b[A\n",
      "21it [03:31, 10.29s/it]\u001b[A"
     ]
    },
    {
     "name": "stdout",
     "output_type": "stream",
     "text": [
      "Batch 20, Loss: 0.0096\n"
     ]
    },
    {
     "name": "stderr",
     "output_type": "stream",
     "text": [
      "\n",
      "22it [03:41, 10.28s/it]\u001b[A\n",
      "23it [03:51, 10.11s/it]\u001b[A\n",
      "24it [04:01, 10.04s/it]\u001b[A\n",
      " 30%|███       | 15/50 [1:00:10<2:21:35, 242.72s/it]"
     ]
    },
    {
     "name": "stdout",
     "output_type": "stream",
     "text": [
      "Epoch 15 Perplexity: 1.0089\n",
      "Epoch 15 Lexical Diversity: 0.9943, Bigram Diversity: 1.0000\n",
      "Epoch 16/50\n"
     ]
    },
    {
     "name": "stderr",
     "output_type": "stream",
     "text": [
      "\n",
      "0it [00:00, ?it/s]\u001b[A\n",
      "1it [00:10, 10.16s/it]\u001b[A"
     ]
    },
    {
     "name": "stdout",
     "output_type": "stream",
     "text": [
      "Batch 0, Loss: 0.0092\n"
     ]
    },
    {
     "name": "stderr",
     "output_type": "stream",
     "text": [
      "\n",
      "2it [00:20, 10.52s/it]\u001b[A\n",
      "3it [00:31, 10.33s/it]\u001b[A\n",
      "4it [00:41, 10.22s/it]\u001b[A\n",
      "5it [00:50, 10.03s/it]\u001b[A\n",
      "6it [01:00,  9.84s/it]\u001b[A\n",
      "7it [01:10,  9.87s/it]\u001b[A\n",
      "8it [01:19,  9.83s/it]\u001b[A\n",
      "9it [01:29,  9.90s/it]\u001b[A\n",
      "10it [01:40, 10.06s/it]\u001b[A\n",
      "11it [01:50,  9.93s/it]\u001b[A"
     ]
    },
    {
     "name": "stdout",
     "output_type": "stream",
     "text": [
      "Batch 10, Loss: 0.0084\n"
     ]
    },
    {
     "name": "stderr",
     "output_type": "stream",
     "text": [
      "\n",
      "12it [01:59,  9.92s/it]\u001b[A\n",
      "13it [02:09,  9.91s/it]\u001b[A\n",
      "14it [02:20, 10.03s/it]\u001b[A\n",
      "15it [02:30, 10.13s/it]\u001b[A\n",
      "16it [02:40, 10.08s/it]\u001b[A\n",
      "17it [02:50, 10.08s/it]\u001b[A\n",
      "18it [03:00,  9.95s/it]\u001b[A\n",
      "19it [03:11, 10.25s/it]\u001b[A\n",
      "20it [03:21, 10.16s/it]\u001b[A\n",
      "21it [03:31, 10.21s/it]\u001b[A"
     ]
    },
    {
     "name": "stdout",
     "output_type": "stream",
     "text": [
      "Batch 20, Loss: 0.0081\n"
     ]
    },
    {
     "name": "stderr",
     "output_type": "stream",
     "text": [
      "\n",
      "22it [03:41, 10.23s/it]\u001b[A\n",
      "23it [03:52, 10.43s/it]\u001b[A\n",
      "24it [04:02, 10.12s/it]\u001b[A\n",
      " 32%|███▏      | 16/50 [1:04:16<2:17:58, 243.49s/it]"
     ]
    },
    {
     "name": "stdout",
     "output_type": "stream",
     "text": [
      "Epoch 16 Perplexity: 1.0120\n",
      "Epoch 16 Lexical Diversity: 0.9943, Bigram Diversity: 1.0000\n",
      "Epoch 17/50\n"
     ]
    },
    {
     "name": "stderr",
     "output_type": "stream",
     "text": [
      "\n",
      "0it [00:00, ?it/s]\u001b[A\n",
      "1it [00:10, 10.21s/it]\u001b[A"
     ]
    },
    {
     "name": "stdout",
     "output_type": "stream",
     "text": [
      "Batch 0, Loss: 0.0079\n"
     ]
    },
    {
     "name": "stderr",
     "output_type": "stream",
     "text": [
      "\n",
      "2it [00:20, 10.02s/it]\u001b[A\n",
      "3it [00:29,  9.92s/it]\u001b[A\n",
      "4it [00:40, 10.10s/it]\u001b[A\n",
      "5it [00:50, 10.17s/it]\u001b[A\n",
      "6it [01:00, 10.01s/it]\u001b[A\n",
      "7it [01:10,  9.96s/it]\u001b[A\n",
      "8it [01:20, 10.00s/it]\u001b[A\n",
      "9it [01:29,  9.93s/it]\u001b[A\n",
      "10it [01:40, 10.21s/it]\u001b[A\n",
      "11it [01:51, 10.42s/it]\u001b[A"
     ]
    },
    {
     "name": "stdout",
     "output_type": "stream",
     "text": [
      "Batch 10, Loss: 0.0075\n"
     ]
    },
    {
     "name": "stderr",
     "output_type": "stream",
     "text": [
      "\n",
      "12it [02:02, 10.39s/it]\u001b[A\n",
      "13it [02:12, 10.48s/it]\u001b[A\n",
      "14it [02:23, 10.57s/it]\u001b[A\n",
      "15it [02:33, 10.26s/it]\u001b[A\n",
      "16it [02:42, 10.09s/it]\u001b[A\n",
      "17it [02:52, 10.05s/it]\u001b[A\n",
      "18it [03:02, 10.11s/it]\u001b[A\n",
      "19it [03:12, 10.04s/it]\u001b[A\n",
      "20it [03:22,  9.93s/it]\u001b[A\n",
      "21it [03:32,  9.99s/it]\u001b[A"
     ]
    },
    {
     "name": "stdout",
     "output_type": "stream",
     "text": [
      "Batch 20, Loss: 0.0075\n"
     ]
    },
    {
     "name": "stderr",
     "output_type": "stream",
     "text": [
      "\n",
      "22it [03:42,  9.97s/it]\u001b[A\n",
      "23it [03:52, 10.07s/it]\u001b[A\n",
      "24it [04:02, 10.12s/it]\u001b[A\n",
      " 34%|███▍      | 17/50 [1:08:21<2:14:13, 244.03s/it]"
     ]
    },
    {
     "name": "stdout",
     "output_type": "stream",
     "text": [
      "Epoch 17 Perplexity: 1.0076\n",
      "Epoch 17 Lexical Diversity: 0.9920, Bigram Diversity: 1.0000\n",
      "Epoch 18/50\n"
     ]
    },
    {
     "name": "stderr",
     "output_type": "stream",
     "text": [
      "\n",
      "0it [00:00, ?it/s]\u001b[A\n",
      "1it [00:09,  9.89s/it]\u001b[A"
     ]
    },
    {
     "name": "stdout",
     "output_type": "stream",
     "text": [
      "Batch 0, Loss: 0.0072\n"
     ]
    },
    {
     "name": "stderr",
     "output_type": "stream",
     "text": [
      "\n",
      "2it [00:19,  9.71s/it]\u001b[A\n",
      "3it [00:29,  9.95s/it]\u001b[A\n",
      "4it [00:39, 10.03s/it]\u001b[A\n",
      "5it [00:50, 10.10s/it]\u001b[A\n",
      "6it [01:00, 10.10s/it]\u001b[A\n",
      "7it [01:10, 10.08s/it]\u001b[A\n",
      "8it [01:19,  9.96s/it]\u001b[A\n",
      "9it [01:30, 10.05s/it]\u001b[A\n",
      "10it [01:41, 10.29s/it]\u001b[A\n",
      "11it [01:50, 10.13s/it]\u001b[A"
     ]
    },
    {
     "name": "stdout",
     "output_type": "stream",
     "text": [
      "Batch 10, Loss: 0.0069\n"
     ]
    },
    {
     "name": "stderr",
     "output_type": "stream",
     "text": [
      "\n",
      "12it [02:00, 10.15s/it]\u001b[A\n",
      "13it [02:11, 10.13s/it]\u001b[A\n",
      "14it [02:20, 10.06s/it]\u001b[A\n",
      "15it [02:30, 10.06s/it]\u001b[A\n",
      "16it [02:41, 10.20s/it]\u001b[A\n",
      "17it [02:51, 10.06s/it]\u001b[A\n",
      "18it [03:01, 10.09s/it]\u001b[A\n",
      "19it [03:12, 10.29s/it]\u001b[A\n",
      "20it [03:21, 10.14s/it]\u001b[A\n",
      "21it [03:32, 10.32s/it]\u001b[A"
     ]
    },
    {
     "name": "stdout",
     "output_type": "stream",
     "text": [
      "Batch 20, Loss: 0.0066\n"
     ]
    },
    {
     "name": "stderr",
     "output_type": "stream",
     "text": [
      "\n",
      "22it [03:42, 10.26s/it]\u001b[A\n",
      "23it [03:52, 10.05s/it]\u001b[A\n",
      "24it [04:02, 10.10s/it]\u001b[A\n",
      " 36%|███▌      | 18/50 [1:12:26<2:10:18, 244.32s/it]"
     ]
    },
    {
     "name": "stdout",
     "output_type": "stream",
     "text": [
      "Epoch 18 Perplexity: 1.0065\n",
      "Epoch 18 Lexical Diversity: 0.9894, Bigram Diversity: 1.0000\n",
      "Epoch 19/50\n"
     ]
    },
    {
     "name": "stderr",
     "output_type": "stream",
     "text": [
      "\n",
      "0it [00:00, ?it/s]\u001b[A\n",
      "1it [00:09,  9.78s/it]\u001b[A"
     ]
    },
    {
     "name": "stdout",
     "output_type": "stream",
     "text": [
      "Batch 0, Loss: 0.0067\n"
     ]
    },
    {
     "name": "stderr",
     "output_type": "stream",
     "text": [
      "\n",
      "2it [00:19,  9.61s/it]\u001b[A\n",
      "3it [00:28,  9.63s/it]\u001b[A\n",
      "4it [00:39, 10.08s/it]\u001b[A\n",
      "5it [00:50, 10.26s/it]\u001b[A\n",
      "6it [01:00, 10.24s/it]\u001b[A\n",
      "7it [01:10, 10.23s/it]\u001b[A\n",
      "8it [01:20, 10.18s/it]\u001b[A\n",
      "9it [01:30, 10.04s/it]\u001b[A\n",
      "10it [01:40, 10.04s/it]\u001b[A\n",
      "11it [01:50, 10.10s/it]\u001b[A"
     ]
    },
    {
     "name": "stdout",
     "output_type": "stream",
     "text": [
      "Batch 10, Loss: 0.0064\n"
     ]
    },
    {
     "name": "stderr",
     "output_type": "stream",
     "text": [
      "\n",
      "12it [02:00, 10.01s/it]\u001b[A\n",
      "13it [02:10,  9.88s/it]\u001b[A\n",
      "14it [02:19,  9.86s/it]\u001b[A\n",
      "15it [02:29,  9.91s/it]\u001b[A\n",
      "16it [02:40,  9.98s/it]\u001b[A\n",
      "17it [02:50,  9.99s/it]\u001b[A\n",
      "18it [02:59,  9.92s/it]\u001b[A\n",
      "19it [03:10, 10.12s/it]\u001b[A\n",
      "20it [03:20,  9.95s/it]\u001b[A\n",
      "21it [03:29,  9.89s/it]\u001b[A"
     ]
    },
    {
     "name": "stdout",
     "output_type": "stream",
     "text": [
      "Batch 20, Loss: 0.0062\n"
     ]
    },
    {
     "name": "stderr",
     "output_type": "stream",
     "text": [
      "\n",
      "22it [03:39,  9.95s/it]\u001b[A\n",
      "23it [03:49,  9.98s/it]\u001b[A\n",
      "24it [03:59,  9.99s/it]\u001b[A\n",
      " 38%|███▊      | 19/50 [1:16:28<2:05:53, 243.67s/it]"
     ]
    },
    {
     "name": "stdout",
     "output_type": "stream",
     "text": [
      "Epoch 19 Perplexity: 1.0059\n",
      "Epoch 19 Lexical Diversity: 0.9894, Bigram Diversity: 1.0000\n",
      "Epoch 20/50\n"
     ]
    },
    {
     "name": "stderr",
     "output_type": "stream",
     "text": [
      "\n",
      "0it [00:00, ?it/s]\u001b[A\n",
      "1it [00:10, 10.00s/it]\u001b[A"
     ]
    },
    {
     "name": "stdout",
     "output_type": "stream",
     "text": [
      "Batch 0, Loss: 0.0060\n"
     ]
    },
    {
     "name": "stderr",
     "output_type": "stream",
     "text": [
      "\n",
      "2it [00:20, 10.07s/it]\u001b[A\n",
      "3it [00:30, 10.29s/it]\u001b[A\n",
      "4it [00:41, 10.43s/it]\u001b[A\n",
      "5it [00:51, 10.31s/it]\u001b[A\n",
      "6it [01:01, 10.13s/it]\u001b[A\n",
      "7it [01:11, 10.16s/it]\u001b[A\n",
      "8it [01:21, 10.03s/it]\u001b[A\n",
      "9it [01:31, 10.25s/it]\u001b[A\n",
      "10it [01:41, 10.13s/it]\u001b[A\n",
      "11it [01:51, 10.11s/it]\u001b[A"
     ]
    },
    {
     "name": "stdout",
     "output_type": "stream",
     "text": [
      "Batch 10, Loss: 0.0060\n"
     ]
    },
    {
     "name": "stderr",
     "output_type": "stream",
     "text": [
      "\n",
      "12it [02:02, 10.30s/it]\u001b[A\n",
      "13it [02:12, 10.12s/it]\u001b[A\n",
      "14it [02:22, 10.06s/it]\u001b[A\n",
      "15it [02:32, 10.01s/it]\u001b[A\n",
      "16it [02:42, 10.09s/it]\u001b[A\n",
      "17it [02:52, 10.14s/it]\u001b[A\n",
      "18it [03:02, 10.19s/it]\u001b[A\n",
      "19it [03:12, 10.02s/it]\u001b[A\n",
      "20it [03:22,  9.98s/it]\u001b[A\n",
      "21it [03:32,  9.88s/it]\u001b[A"
     ]
    },
    {
     "name": "stdout",
     "output_type": "stream",
     "text": [
      "Batch 20, Loss: 0.0059\n"
     ]
    },
    {
     "name": "stderr",
     "output_type": "stream",
     "text": [
      "\n",
      "22it [03:42,  9.93s/it]\u001b[A\n",
      "23it [03:52,  9.99s/it]\u001b[A\n",
      "24it [04:02, 10.10s/it]\u001b[A\n",
      " 40%|████      | 20/50 [1:20:33<2:02:00, 244.01s/it]"
     ]
    },
    {
     "name": "stdout",
     "output_type": "stream",
     "text": [
      "Epoch 20 Perplexity: 1.0073\n",
      "Epoch 20 Lexical Diversity: 0.9894, Bigram Diversity: 1.0000\n",
      "Epoch 21/50\n"
     ]
    },
    {
     "name": "stderr",
     "output_type": "stream",
     "text": [
      "\n",
      "0it [00:00, ?it/s]\u001b[A\n",
      "1it [00:09,  9.96s/it]\u001b[A"
     ]
    },
    {
     "name": "stdout",
     "output_type": "stream",
     "text": [
      "Batch 0, Loss: 0.0073\n"
     ]
    },
    {
     "name": "stderr",
     "output_type": "stream",
     "text": [
      "\n",
      "2it [00:20, 10.06s/it]\u001b[A\n",
      "3it [00:29,  9.97s/it]\u001b[A\n",
      "4it [00:40, 10.12s/it]\u001b[A\n",
      "5it [00:50, 10.05s/it]\u001b[A\n",
      "6it [00:59,  9.91s/it]\u001b[A\n",
      "7it [01:10, 10.14s/it]\u001b[A\n",
      "8it [01:20, 10.18s/it]\u001b[A\n",
      "9it [01:30, 10.10s/it]\u001b[A\n",
      "10it [01:40, 10.07s/it]\u001b[A\n",
      "11it [01:51, 10.27s/it]\u001b[A"
     ]
    },
    {
     "name": "stdout",
     "output_type": "stream",
     "text": [
      "Batch 10, Loss: 0.0053\n"
     ]
    },
    {
     "name": "stderr",
     "output_type": "stream",
     "text": [
      "\n",
      "12it [02:02, 10.45s/it]\u001b[A\n",
      "13it [02:12, 10.24s/it]\u001b[A\n",
      "14it [02:22, 10.17s/it]\u001b[A\n",
      "15it [02:31, 10.10s/it]\u001b[A\n",
      "16it [02:41, 10.03s/it]\u001b[A\n",
      "17it [02:51,  9.98s/it]\u001b[A\n",
      "18it [03:01,  9.84s/it]\u001b[A\n",
      "19it [03:11,  9.96s/it]\u001b[A\n",
      "20it [03:21, 10.00s/it]\u001b[A\n",
      "21it [03:32, 10.21s/it]\u001b[A"
     ]
    },
    {
     "name": "stdout",
     "output_type": "stream",
     "text": [
      "Batch 20, Loss: 0.0051\n"
     ]
    },
    {
     "name": "stderr",
     "output_type": "stream",
     "text": [
      "\n",
      "22it [03:42, 10.20s/it]\u001b[A\n",
      "23it [03:52, 10.24s/it]\u001b[A\n",
      "24it [04:02, 10.11s/it]\u001b[A\n",
      " 42%|████▏     | 21/50 [1:24:38<1:58:05, 244.33s/it]"
     ]
    },
    {
     "name": "stdout",
     "output_type": "stream",
     "text": [
      "Epoch 21 Perplexity: 1.0052\n",
      "Epoch 21 Lexical Diversity: 0.9894, Bigram Diversity: 1.0000\n",
      "Epoch 22/50\n"
     ]
    },
    {
     "name": "stderr",
     "output_type": "stream",
     "text": [
      "\n",
      "0it [00:00, ?it/s]\u001b[A\n",
      "1it [00:09,  9.93s/it]\u001b[A"
     ]
    },
    {
     "name": "stdout",
     "output_type": "stream",
     "text": [
      "Batch 0, Loss: 0.0051\n"
     ]
    },
    {
     "name": "stderr",
     "output_type": "stream",
     "text": [
      "\n",
      "2it [00:19,  9.74s/it]\u001b[A\n",
      "3it [00:29,  9.96s/it]\u001b[A\n",
      "4it [00:39, 10.02s/it]\u001b[A\n",
      "5it [00:49,  9.82s/it]\u001b[A\n",
      "6it [00:59,  9.97s/it]\u001b[A\n",
      "7it [01:09, 10.04s/it]\u001b[A\n",
      "8it [01:19, 10.06s/it]\u001b[A\n",
      "9it [01:29, 10.04s/it]\u001b[A\n",
      "10it [01:40, 10.24s/it]\u001b[A\n",
      "11it [01:50, 10.07s/it]\u001b[A"
     ]
    },
    {
     "name": "stdout",
     "output_type": "stream",
     "text": [
      "Batch 10, Loss: 0.0049\n"
     ]
    },
    {
     "name": "stderr",
     "output_type": "stream",
     "text": [
      "\n",
      "12it [02:00, 10.15s/it]\u001b[A\n",
      "13it [02:10, 10.18s/it]\u001b[A\n",
      "14it [02:21, 10.41s/it]\u001b[A\n",
      "15it [02:31, 10.25s/it]\u001b[A\n",
      "16it [02:41, 10.14s/it]\u001b[A\n",
      "17it [02:51, 10.01s/it]\u001b[A\n",
      "18it [03:01,  9.97s/it]\u001b[A\n",
      "19it [03:12, 10.25s/it]\u001b[A\n",
      "20it [03:22, 10.19s/it]\u001b[A\n",
      "21it [03:32, 10.15s/it]\u001b[A"
     ]
    },
    {
     "name": "stdout",
     "output_type": "stream",
     "text": [
      "Batch 20, Loss: 0.0047\n"
     ]
    },
    {
     "name": "stderr",
     "output_type": "stream",
     "text": [
      "\n",
      "22it [03:42, 10.14s/it]\u001b[A\n",
      "23it [03:52, 10.03s/it]\u001b[A\n",
      "24it [04:01, 10.08s/it]\u001b[A\n",
      " 44%|████▍     | 22/50 [1:28:42<1:54:01, 244.34s/it]"
     ]
    },
    {
     "name": "stdout",
     "output_type": "stream",
     "text": [
      "Epoch 22 Perplexity: 1.0081\n",
      "Epoch 22 Lexical Diversity: 0.9894, Bigram Diversity: 1.0000\n",
      "Epoch 23/50\n"
     ]
    },
    {
     "name": "stderr",
     "output_type": "stream",
     "text": [
      "\n",
      "0it [00:00, ?it/s]\u001b[A\n",
      "1it [00:09,  9.90s/it]\u001b[A"
     ]
    },
    {
     "name": "stdout",
     "output_type": "stream",
     "text": [
      "Batch 0, Loss: 0.0047\n"
     ]
    },
    {
     "name": "stderr",
     "output_type": "stream",
     "text": [
      "\n",
      "2it [00:19,  9.83s/it]\u001b[A\n",
      "3it [00:29,  9.92s/it]\u001b[A\n",
      "4it [00:39,  9.85s/it]\u001b[A\n",
      "5it [00:49,  9.93s/it]\u001b[A\n",
      "6it [00:59, 10.02s/it]\u001b[A\n",
      "7it [01:09,  9.90s/it]\u001b[A\n",
      "8it [01:19,  9.98s/it]\u001b[A\n",
      "9it [01:30, 10.22s/it]\u001b[A\n",
      "10it [01:41, 10.39s/it]\u001b[A\n",
      "11it [01:51, 10.49s/it]\u001b[A"
     ]
    },
    {
     "name": "stdout",
     "output_type": "stream",
     "text": [
      "Batch 10, Loss: 0.0046\n"
     ]
    },
    {
     "name": "stderr",
     "output_type": "stream",
     "text": [
      "\n",
      "12it [02:01, 10.28s/it]\u001b[A\n",
      "13it [02:11, 10.03s/it]\u001b[A\n",
      "14it [02:20,  9.84s/it]\u001b[A\n",
      "15it [02:30,  9.84s/it]\u001b[A\n",
      "16it [02:40,  9.96s/it]\u001b[A\n",
      "17it [02:50, 10.04s/it]\u001b[A\n",
      "18it [03:00,  9.86s/it]\u001b[A\n",
      "19it [03:10,  9.93s/it]\u001b[A\n",
      "20it [03:20,  9.95s/it]\u001b[A\n",
      "21it [03:30,  9.95s/it]\u001b[A"
     ]
    },
    {
     "name": "stdout",
     "output_type": "stream",
     "text": [
      "Batch 20, Loss: 0.0084\n"
     ]
    },
    {
     "name": "stderr",
     "output_type": "stream",
     "text": [
      "\n",
      "22it [03:40,  9.93s/it]\u001b[A\n",
      "23it [03:50, 10.03s/it]\u001b[A\n",
      "24it [04:01, 10.05s/it]\u001b[A\n",
      " 46%|████▌     | 23/50 [1:32:46<1:49:51, 244.12s/it]"
     ]
    },
    {
     "name": "stdout",
     "output_type": "stream",
     "text": [
      "Epoch 23 Perplexity: 1.0044\n",
      "Epoch 23 Lexical Diversity: 0.9894, Bigram Diversity: 1.0000\n",
      "Epoch 24/50\n"
     ]
    },
    {
     "name": "stderr",
     "output_type": "stream",
     "text": [
      "\n",
      "0it [00:00, ?it/s]\u001b[A\n",
      "1it [00:09,  9.73s/it]\u001b[A"
     ]
    },
    {
     "name": "stdout",
     "output_type": "stream",
     "text": [
      "Batch 0, Loss: 0.0055\n"
     ]
    },
    {
     "name": "stderr",
     "output_type": "stream",
     "text": [
      "\n",
      "2it [00:19,  9.93s/it]\u001b[A\n",
      "3it [00:29,  9.88s/it]\u001b[A\n",
      "4it [00:39,  9.98s/it]\u001b[A\n",
      "5it [00:49,  9.83s/it]\u001b[A\n",
      "6it [00:58,  9.77s/it]\u001b[A\n",
      "7it [01:09,  9.95s/it]\u001b[A\n",
      "8it [01:19,  9.98s/it]\u001b[A\n",
      "9it [01:29, 10.19s/it]\u001b[A\n",
      "10it [01:39,  9.98s/it]\u001b[A\n",
      "11it [01:49,  9.84s/it]\u001b[A"
     ]
    },
    {
     "name": "stdout",
     "output_type": "stream",
     "text": [
      "Batch 10, Loss: 0.0043\n"
     ]
    },
    {
     "name": "stderr",
     "output_type": "stream",
     "text": [
      "\n",
      "12it [01:59,  9.97s/it]\u001b[A\n",
      "13it [02:10, 10.21s/it]\u001b[A\n",
      "14it [02:20, 10.41s/it]\u001b[A\n",
      "15it [02:30, 10.24s/it]\u001b[A\n",
      "16it [02:40, 10.13s/it]\u001b[A\n",
      "17it [02:50, 10.05s/it]\u001b[A\n",
      "18it [03:00, 10.02s/it]\u001b[A\n",
      "19it [03:11, 10.25s/it]\u001b[A\n",
      "20it [03:21, 10.26s/it]\u001b[A\n",
      "21it [03:31, 10.24s/it]\u001b[A"
     ]
    },
    {
     "name": "stdout",
     "output_type": "stream",
     "text": [
      "Batch 20, Loss: 0.0053\n"
     ]
    },
    {
     "name": "stderr",
     "output_type": "stream",
     "text": [
      "\n",
      "22it [03:41, 10.15s/it]\u001b[A\n",
      "23it [03:51, 10.17s/it]\u001b[A\n",
      "24it [04:01, 10.07s/it]\u001b[A\n",
      " 48%|████▊     | 24/50 [1:36:50<1:45:47, 244.14s/it]"
     ]
    },
    {
     "name": "stdout",
     "output_type": "stream",
     "text": [
      "Epoch 24 Perplexity: 1.0041\n",
      "Epoch 24 Lexical Diversity: 0.9894, Bigram Diversity: 1.0000\n",
      "Epoch 25/50\n"
     ]
    },
    {
     "name": "stderr",
     "output_type": "stream",
     "text": [
      "\n",
      "0it [00:00, ?it/s]\u001b[A\n",
      "1it [00:10, 10.15s/it]\u001b[A"
     ]
    },
    {
     "name": "stdout",
     "output_type": "stream",
     "text": [
      "Batch 0, Loss: 0.0041\n"
     ]
    },
    {
     "name": "stderr",
     "output_type": "stream",
     "text": [
      "\n",
      "2it [00:21, 10.58s/it]\u001b[A\n",
      "3it [00:31, 10.45s/it]\u001b[A\n",
      "4it [00:41, 10.36s/it]\u001b[A\n",
      "5it [00:51, 10.08s/it]\u001b[A\n",
      "6it [01:00, 10.01s/it]\u001b[A\n",
      "7it [01:10,  9.92s/it]\u001b[A\n",
      "8it [01:20,  9.90s/it]\u001b[A\n",
      "9it [01:30,  9.92s/it]\u001b[A\n",
      "10it [01:40,  9.94s/it]\u001b[A\n",
      "11it [01:50, 10.01s/it]\u001b[A"
     ]
    },
    {
     "name": "stdout",
     "output_type": "stream",
     "text": [
      "Batch 10, Loss: 0.0040\n"
     ]
    },
    {
     "name": "stderr",
     "output_type": "stream",
     "text": [
      "\n",
      "12it [02:01, 10.11s/it]\u001b[A\n",
      "13it [02:11, 10.14s/it]\u001b[A\n",
      "14it [02:21, 10.02s/it]\u001b[A\n",
      "15it [02:30,  9.91s/it]\u001b[A\n",
      "16it [02:40,  9.87s/it]\u001b[A\n",
      "17it [02:51, 10.15s/it]\u001b[A\n",
      "18it [03:01, 10.15s/it]\u001b[A\n",
      "19it [03:12, 10.38s/it]\u001b[A\n",
      "20it [03:22, 10.33s/it]\u001b[A\n",
      "21it [03:32, 10.18s/it]\u001b[A"
     ]
    },
    {
     "name": "stdout",
     "output_type": "stream",
     "text": [
      "Batch 20, Loss: 0.0042\n"
     ]
    },
    {
     "name": "stderr",
     "output_type": "stream",
     "text": [
      "\n",
      "22it [03:42, 10.24s/it]\u001b[A\n",
      "23it [03:52, 10.17s/it]\u001b[A\n",
      "24it [04:03, 10.15s/it]\u001b[A\n",
      " 50%|█████     | 25/50 [1:40:56<1:41:57, 244.70s/it]"
     ]
    },
    {
     "name": "stdout",
     "output_type": "stream",
     "text": [
      "Epoch 25 Perplexity: 1.0053\n",
      "Epoch 25 Lexical Diversity: 0.9894, Bigram Diversity: 1.0000\n",
      "Epoch 26/50\n"
     ]
    },
    {
     "name": "stderr",
     "output_type": "stream",
     "text": [
      "\n",
      "0it [00:00, ?it/s]\u001b[A\n",
      "1it [00:10, 10.23s/it]\u001b[A"
     ]
    },
    {
     "name": "stdout",
     "output_type": "stream",
     "text": [
      "Batch 0, Loss: 0.0038\n"
     ]
    },
    {
     "name": "stderr",
     "output_type": "stream",
     "text": [
      "\n",
      "2it [00:19,  9.83s/it]\u001b[A\n",
      "3it [00:29,  9.82s/it]\u001b[A\n",
      "4it [00:39,  9.79s/it]\u001b[A\n",
      "5it [00:49,  9.99s/it]\u001b[A\n",
      "6it [00:59,  9.90s/it]\u001b[A\n",
      "7it [01:09,  9.97s/it]\u001b[A\n",
      "8it [01:19,  9.94s/it]\u001b[A\n",
      "9it [01:29,  9.88s/it]\u001b[A\n",
      "10it [01:39,  9.88s/it]\u001b[A\n",
      "11it [01:48,  9.78s/it]\u001b[A"
     ]
    },
    {
     "name": "stdout",
     "output_type": "stream",
     "text": [
      "Batch 10, Loss: 0.0037\n"
     ]
    },
    {
     "name": "stderr",
     "output_type": "stream",
     "text": [
      "\n",
      "12it [01:58,  9.92s/it]\u001b[A\n",
      "13it [02:08,  9.88s/it]\u001b[A\n",
      "14it [02:18,  9.99s/it]\u001b[A\n",
      "15it [02:28,  9.98s/it]\u001b[A\n",
      "16it [02:39, 10.24s/it]\u001b[A\n",
      "17it [02:50, 10.39s/it]\u001b[A\n",
      "18it [03:00, 10.37s/it]\u001b[A\n",
      "19it [03:11, 10.53s/it]\u001b[A\n",
      "20it [03:21, 10.34s/it]\u001b[A\n",
      "21it [03:31, 10.20s/it]\u001b[A"
     ]
    },
    {
     "name": "stdout",
     "output_type": "stream",
     "text": [
      "Batch 20, Loss: 0.0036\n"
     ]
    },
    {
     "name": "stderr",
     "output_type": "stream",
     "text": [
      "\n",
      "22it [03:41, 10.04s/it]\u001b[A\n",
      "23it [03:51, 10.10s/it]\u001b[A\n",
      "24it [04:01, 10.06s/it]\u001b[A\n",
      " 52%|█████▏    | 26/50 [1:45:00<1:37:48, 244.50s/it]"
     ]
    },
    {
     "name": "stdout",
     "output_type": "stream",
     "text": [
      "Epoch 26 Perplexity: 1.0036\n",
      "Epoch 26 Lexical Diversity: 0.9894, Bigram Diversity: 1.0000\n",
      "Epoch 27/50\n"
     ]
    },
    {
     "name": "stderr",
     "output_type": "stream",
     "text": [
      "\n",
      "0it [00:00, ?it/s]\u001b[A\n",
      "1it [00:10, 10.01s/it]\u001b[A"
     ]
    },
    {
     "name": "stdout",
     "output_type": "stream",
     "text": [
      "Batch 0, Loss: 0.0036\n"
     ]
    },
    {
     "name": "stderr",
     "output_type": "stream",
     "text": [
      "\n",
      "2it [00:20, 10.21s/it]\u001b[A\n",
      "3it [00:30, 10.11s/it]\u001b[A\n",
      "4it [00:40, 10.16s/it]\u001b[A\n",
      "5it [00:51, 10.30s/it]\u001b[A\n",
      "6it [01:01, 10.18s/it]\u001b[A\n",
      "7it [01:11, 10.23s/it]\u001b[A\n",
      "8it [01:21, 10.05s/it]\u001b[A\n",
      "9it [01:31, 10.13s/it]\u001b[A\n",
      "10it [01:41, 10.02s/it]\u001b[A\n",
      "11it [01:51, 10.02s/it]\u001b[A"
     ]
    },
    {
     "name": "stdout",
     "output_type": "stream",
     "text": [
      "Batch 10, Loss: 0.0035\n"
     ]
    },
    {
     "name": "stderr",
     "output_type": "stream",
     "text": [
      "\n",
      "12it [02:01, 10.04s/it]\u001b[A\n",
      "13it [02:11, 10.05s/it]\u001b[A\n",
      "14it [02:21, 10.02s/it]\u001b[A\n",
      "15it [02:30,  9.84s/it]\u001b[A\n",
      "16it [02:40,  9.85s/it]\u001b[A\n",
      "17it [02:50,  9.93s/it]\u001b[A\n",
      "18it [03:01, 10.18s/it]\u001b[A\n",
      "19it [03:11, 10.22s/it]\u001b[A\n",
      "20it [03:21, 10.12s/it]\u001b[A\n",
      "21it [03:31, 10.01s/it]\u001b[A"
     ]
    },
    {
     "name": "stdout",
     "output_type": "stream",
     "text": [
      "Batch 20, Loss: 0.0058\n"
     ]
    },
    {
     "name": "stderr",
     "output_type": "stream",
     "text": [
      "\n",
      "22it [03:42, 10.22s/it]\u001b[A\n",
      "23it [03:52, 10.39s/it]\u001b[A\n",
      "24it [04:03, 10.13s/it]\u001b[A\n",
      " 54%|█████▍    | 27/50 [1:49:06<1:33:50, 244.81s/it]"
     ]
    },
    {
     "name": "stdout",
     "output_type": "stream",
     "text": [
      "Epoch 27 Perplexity: 1.0034\n",
      "Epoch 27 Lexical Diversity: 0.9894, Bigram Diversity: 1.0000\n",
      "Epoch 28/50\n"
     ]
    },
    {
     "name": "stderr",
     "output_type": "stream",
     "text": [
      "\n",
      "0it [00:00, ?it/s]\u001b[A\n",
      "1it [00:09,  9.62s/it]\u001b[A"
     ]
    },
    {
     "name": "stdout",
     "output_type": "stream",
     "text": [
      "Batch 0, Loss: 0.0034\n"
     ]
    },
    {
     "name": "stderr",
     "output_type": "stream",
     "text": [
      "\n",
      "2it [00:19,  9.99s/it]\u001b[A\n",
      "3it [00:30, 10.23s/it]\u001b[A\n",
      "4it [00:40, 10.02s/it]\u001b[A\n",
      "5it [00:50, 10.30s/it]\u001b[A\n",
      "6it [01:00, 10.11s/it]\u001b[A\n",
      "7it [01:10, 10.03s/it]\u001b[A\n",
      "8it [01:20, 10.01s/it]\u001b[A\n",
      "9it [01:30,  9.95s/it]\u001b[A\n",
      "10it [01:40,  9.89s/it]\u001b[A\n",
      "11it [01:50, 10.00s/it]\u001b[A"
     ]
    },
    {
     "name": "stdout",
     "output_type": "stream",
     "text": [
      "Batch 10, Loss: 0.0033\n"
     ]
    },
    {
     "name": "stderr",
     "output_type": "stream",
     "text": [
      "\n",
      "12it [02:00, 10.09s/it]\u001b[A\n",
      "13it [02:10,  9.96s/it]\u001b[A\n",
      "14it [02:20,  9.90s/it]\u001b[A\n",
      "15it [02:29,  9.82s/it]\u001b[A\n",
      "16it [02:39,  9.86s/it]\u001b[A\n",
      "17it [02:50, 10.14s/it]\u001b[A\n",
      "18it [03:00, 10.19s/it]\u001b[A\n",
      "19it [03:10, 10.05s/it]\u001b[A\n",
      "20it [03:20,  9.94s/it]\u001b[A\n",
      "21it [03:30, 10.19s/it]\u001b[A"
     ]
    },
    {
     "name": "stdout",
     "output_type": "stream",
     "text": [
      "Batch 20, Loss: 0.0032\n"
     ]
    },
    {
     "name": "stderr",
     "output_type": "stream",
     "text": [
      "\n",
      "22it [03:41, 10.24s/it]\u001b[A\n",
      "23it [03:51, 10.15s/it]\u001b[A\n",
      "24it [04:01, 10.06s/it]\u001b[A\n",
      " 56%|█████▌    | 28/50 [1:53:10<1:29:40, 244.56s/it]"
     ]
    },
    {
     "name": "stdout",
     "output_type": "stream",
     "text": [
      "Epoch 28 Perplexity: 1.0032\n",
      "Epoch 28 Lexical Diversity: 0.9894, Bigram Diversity: 1.0000\n",
      "Epoch 29/50\n"
     ]
    },
    {
     "name": "stderr",
     "output_type": "stream",
     "text": [
      "\n",
      "0it [00:00, ?it/s]\u001b[A\n",
      "1it [00:10, 10.03s/it]\u001b[A"
     ]
    },
    {
     "name": "stdout",
     "output_type": "stream",
     "text": [
      "Batch 0, Loss: 0.0032\n"
     ]
    },
    {
     "name": "stderr",
     "output_type": "stream",
     "text": [
      "\n",
      "2it [00:20, 10.11s/it]\u001b[A\n",
      "3it [00:30, 10.36s/it]\u001b[A\n",
      "4it [00:40, 10.06s/it]\u001b[A\n",
      "5it [00:50, 10.15s/it]\u001b[A\n",
      "6it [01:00,  9.97s/it]\u001b[A\n",
      "7it [01:09,  9.84s/it]\u001b[A\n",
      "8it [01:20,  9.96s/it]\u001b[A\n",
      "9it [01:31, 10.25s/it]\u001b[A\n",
      "10it [01:40, 10.15s/it]\u001b[A\n",
      "11it [01:51, 10.15s/it]\u001b[A"
     ]
    },
    {
     "name": "stdout",
     "output_type": "stream",
     "text": [
      "Batch 10, Loss: 0.0035\n"
     ]
    },
    {
     "name": "stderr",
     "output_type": "stream",
     "text": [
      "\n",
      "12it [02:01, 10.22s/it]\u001b[A\n",
      "13it [02:11, 10.07s/it]\u001b[A\n",
      "14it [02:21, 10.13s/it]\u001b[A\n",
      "15it [02:31,  9.95s/it]\u001b[A\n",
      "16it [02:40,  9.91s/it]\u001b[A\n",
      "17it [02:51, 10.00s/it]\u001b[A\n",
      "18it [03:00,  9.97s/it]\u001b[A\n",
      "19it [03:11, 10.04s/it]\u001b[A\n",
      "20it [03:21, 10.18s/it]\u001b[A\n",
      "21it [03:31, 10.18s/it]\u001b[A"
     ]
    },
    {
     "name": "stdout",
     "output_type": "stream",
     "text": [
      "Batch 20, Loss: 0.0030\n"
     ]
    },
    {
     "name": "stderr",
     "output_type": "stream",
     "text": [
      "\n",
      "22it [03:41,  9.98s/it]\u001b[A\n",
      "23it [03:51,  9.93s/it]\u001b[A\n",
      "24it [04:02, 10.09s/it]\u001b[A\n",
      " 58%|█████▊    | 29/50 [1:57:14<1:25:35, 244.55s/it]"
     ]
    },
    {
     "name": "stdout",
     "output_type": "stream",
     "text": [
      "Epoch 29 Perplexity: 1.0030\n",
      "Epoch 29 Lexical Diversity: 0.9894, Bigram Diversity: 1.0000\n",
      "Epoch 30/50\n"
     ]
    },
    {
     "name": "stderr",
     "output_type": "stream",
     "text": [
      "\n",
      "0it [00:00, ?it/s]\u001b[A\n",
      "1it [00:10, 10.22s/it]\u001b[A"
     ]
    },
    {
     "name": "stdout",
     "output_type": "stream",
     "text": [
      "Batch 0, Loss: 0.0030\n"
     ]
    },
    {
     "name": "stderr",
     "output_type": "stream",
     "text": [
      "\n",
      "2it [00:20, 10.04s/it]\u001b[A\n",
      "3it [00:30, 10.01s/it]\u001b[A\n",
      "4it [00:39,  9.91s/it]\u001b[A\n",
      "5it [00:50, 10.21s/it]\u001b[A\n",
      "6it [01:01, 10.36s/it]\u001b[A\n",
      "7it [01:11, 10.48s/it]\u001b[A\n",
      "8it [01:22, 10.41s/it]\u001b[A\n",
      "9it [01:31, 10.19s/it]\u001b[A\n",
      "10it [01:42, 10.18s/it]\u001b[A\n",
      "11it [01:52, 10.21s/it]\u001b[A"
     ]
    },
    {
     "name": "stdout",
     "output_type": "stream",
     "text": [
      "Batch 10, Loss: 0.0029\n"
     ]
    },
    {
     "name": "stderr",
     "output_type": "stream",
     "text": [
      "\n",
      "12it [02:02, 10.14s/it]\u001b[A\n",
      "13it [02:12,  9.99s/it]\u001b[A\n",
      "14it [02:22, 10.07s/it]\u001b[A\n",
      "15it [02:32, 10.02s/it]\u001b[A\n",
      "16it [02:42, 10.00s/it]\u001b[A\n",
      "17it [02:52, 10.10s/it]\u001b[A\n",
      "18it [03:02, 10.07s/it]\u001b[A\n",
      "19it [03:12, 10.08s/it]\u001b[A\n",
      "20it [03:22, 10.04s/it]\u001b[A\n",
      "21it [03:32, 10.00s/it]\u001b[A"
     ]
    },
    {
     "name": "stdout",
     "output_type": "stream",
     "text": [
      "Batch 20, Loss: 0.0029\n"
     ]
    },
    {
     "name": "stderr",
     "output_type": "stream",
     "text": [
      "\n",
      "22it [03:42, 10.02s/it]\u001b[A\n",
      "23it [03:52,  9.91s/it]\u001b[A\n",
      "24it [04:02, 10.12s/it]\u001b[A\n",
      " 60%|██████    | 30/50 [2:01:19<1:21:35, 244.78s/it]"
     ]
    },
    {
     "name": "stdout",
     "output_type": "stream",
     "text": [
      "Epoch 30 Perplexity: 1.0029\n",
      "Epoch 30 Lexical Diversity: 0.9894, Bigram Diversity: 1.0000\n",
      "Epoch 31/50\n"
     ]
    },
    {
     "name": "stderr",
     "output_type": "stream",
     "text": [
      "\n",
      "0it [00:00, ?it/s]\u001b[A\n",
      "1it [00:10, 10.25s/it]\u001b[A"
     ]
    },
    {
     "name": "stdout",
     "output_type": "stream",
     "text": [
      "Batch 0, Loss: 0.0028\n"
     ]
    },
    {
     "name": "stderr",
     "output_type": "stream",
     "text": [
      "\n",
      "2it [00:20, 10.17s/it]\u001b[A\n",
      "3it [00:30, 10.06s/it]\u001b[A\n",
      "4it [00:40,  9.94s/it]\u001b[A\n",
      "5it [00:50, 10.18s/it]\u001b[A\n",
      "6it [01:00, 10.00s/it]\u001b[A\n",
      "7it [01:10, 10.07s/it]\u001b[A\n",
      "8it [01:20, 10.13s/it]\u001b[A\n",
      "9it [01:30, 10.08s/it]\u001b[A\n",
      "10it [01:40, 10.10s/it]\u001b[A\n",
      "11it [01:50, 10.00s/it]\u001b[A"
     ]
    },
    {
     "name": "stdout",
     "output_type": "stream",
     "text": [
      "Batch 10, Loss: 0.0030\n"
     ]
    },
    {
     "name": "stderr",
     "output_type": "stream",
     "text": [
      "\n",
      "12it [02:00,  9.86s/it]\u001b[A\n",
      "13it [02:09,  9.80s/it]\u001b[A\n",
      "14it [02:19,  9.74s/it]\u001b[A\n",
      "15it [02:29,  9.91s/it]\u001b[A\n",
      "16it [02:39,  9.98s/it]\u001b[A\n",
      "17it [02:50, 10.08s/it]\u001b[A\n",
      "18it [03:00, 10.11s/it]\u001b[A\n",
      "19it [03:10, 10.18s/it]\u001b[A\n",
      "20it [03:20, 10.11s/it]\u001b[A\n",
      "21it [03:30, 10.07s/it]\u001b[A"
     ]
    },
    {
     "name": "stdout",
     "output_type": "stream",
     "text": [
      "Batch 20, Loss: 0.0027\n"
     ]
    },
    {
     "name": "stderr",
     "output_type": "stream",
     "text": [
      "\n",
      "22it [03:41, 10.28s/it]\u001b[A\n",
      "23it [03:52, 10.47s/it]\u001b[A\n",
      "24it [04:03, 10.14s/it]\u001b[A\n",
      " 62%|██████▏   | 31/50 [2:05:25<1:17:36, 245.09s/it]"
     ]
    },
    {
     "name": "stdout",
     "output_type": "stream",
     "text": [
      "Epoch 31 Perplexity: 1.0027\n",
      "Epoch 31 Lexical Diversity: 0.9894, Bigram Diversity: 1.0000\n",
      "Epoch 32/50\n"
     ]
    },
    {
     "name": "stderr",
     "output_type": "stream",
     "text": [
      "\n",
      "0it [00:00, ?it/s]\u001b[A\n",
      "1it [00:10, 10.89s/it]\u001b[A"
     ]
    },
    {
     "name": "stdout",
     "output_type": "stream",
     "text": [
      "Batch 0, Loss: 0.0027\n"
     ]
    },
    {
     "name": "stderr",
     "output_type": "stream",
     "text": [
      "\n",
      "2it [00:21, 10.76s/it]\u001b[A\n",
      "3it [00:31, 10.39s/it]\u001b[A\n",
      "4it [00:41, 10.15s/it]\u001b[A\n",
      "5it [00:51, 10.17s/it]\u001b[A\n",
      "6it [01:01,  9.96s/it]\u001b[A\n",
      "7it [01:10,  9.82s/it]\u001b[A\n",
      "8it [01:20,  9.90s/it]\u001b[A\n",
      "9it [01:30, 10.03s/it]\u001b[A\n",
      "10it [01:41, 10.10s/it]\u001b[A\n",
      "11it [01:51, 10.07s/it]\u001b[A"
     ]
    },
    {
     "name": "stdout",
     "output_type": "stream",
     "text": [
      "Batch 10, Loss: 0.0026\n"
     ]
    },
    {
     "name": "stderr",
     "output_type": "stream",
     "text": [
      "\n",
      "12it [02:01, 10.07s/it]\u001b[A\n",
      "13it [02:11, 10.08s/it]\u001b[A\n",
      "14it [02:21, 10.14s/it]\u001b[A\n",
      "15it [02:31, 10.04s/it]\u001b[A\n",
      "16it [02:41, 10.06s/it]\u001b[A\n",
      "17it [02:52, 10.28s/it]\u001b[A\n",
      "18it [03:02, 10.21s/it]\u001b[A\n",
      "19it [03:12, 10.13s/it]\u001b[A\n",
      "20it [03:22, 10.17s/it]\u001b[A\n",
      "21it [03:33, 10.39s/it]\u001b[A"
     ]
    },
    {
     "name": "stdout",
     "output_type": "stream",
     "text": [
      "Batch 20, Loss: 0.0026\n"
     ]
    },
    {
     "name": "stderr",
     "output_type": "stream",
     "text": [
      "\n",
      "22it [03:43, 10.23s/it]\u001b[A\n",
      "23it [03:53, 10.08s/it]\u001b[A\n",
      "24it [04:03, 10.13s/it]\u001b[A\n",
      " 64%|██████▍   | 32/50 [2:09:31<1:13:33, 245.22s/it]"
     ]
    },
    {
     "name": "stdout",
     "output_type": "stream",
     "text": [
      "Epoch 32 Perplexity: 1.0026\n",
      "Epoch 32 Lexical Diversity: 0.9894, Bigram Diversity: 1.0000\n",
      "Epoch 33/50\n"
     ]
    },
    {
     "name": "stderr",
     "output_type": "stream",
     "text": [
      "\n",
      "0it [00:00, ?it/s]\u001b[A\n",
      "1it [00:09,  9.89s/it]\u001b[A"
     ]
    },
    {
     "name": "stdout",
     "output_type": "stream",
     "text": [
      "Batch 0, Loss: 0.0035\n"
     ]
    },
    {
     "name": "stderr",
     "output_type": "stream",
     "text": [
      "\n",
      "2it [00:20, 10.43s/it]\u001b[A\n",
      "3it [00:30, 10.20s/it]\u001b[A\n",
      "4it [00:40, 10.10s/it]\u001b[A\n",
      "5it [00:51, 10.37s/it]\u001b[A\n",
      "6it [01:01, 10.11s/it]\u001b[A\n",
      "7it [01:10, 10.05s/it]\u001b[A\n",
      "8it [01:20, 10.00s/it]\u001b[A\n",
      "9it [01:30, 10.02s/it]\u001b[A\n",
      "10it [01:40,  9.98s/it]\u001b[A\n",
      "11it [01:51, 10.09s/it]\u001b[A"
     ]
    },
    {
     "name": "stdout",
     "output_type": "stream",
     "text": [
      "Batch 10, Loss: 0.0025\n"
     ]
    },
    {
     "name": "stderr",
     "output_type": "stream",
     "text": [
      "\n",
      "12it [02:01, 10.05s/it]\u001b[A\n",
      "13it [02:11, 10.02s/it]\u001b[A\n",
      "14it [02:21, 10.11s/it]\u001b[A\n",
      "15it [02:32, 10.28s/it]\u001b[A\n",
      "16it [02:42, 10.47s/it]\u001b[A\n",
      "17it [02:52, 10.34s/it]\u001b[A\n",
      "18it [03:03, 10.27s/it]\u001b[A\n",
      "19it [03:13, 10.26s/it]\u001b[A\n",
      "20it [03:23, 10.12s/it]\u001b[A\n",
      "21it [03:32,  9.98s/it]\u001b[A"
     ]
    },
    {
     "name": "stdout",
     "output_type": "stream",
     "text": [
      "Batch 20, Loss: 0.0024\n"
     ]
    },
    {
     "name": "stderr",
     "output_type": "stream",
     "text": [
      "\n",
      "22it [03:42, 10.05s/it]\u001b[A\n",
      "23it [03:53, 10.11s/it]\u001b[A\n",
      "24it [04:03, 10.13s/it]\u001b[A\n",
      " 66%|██████▌   | 33/50 [2:13:36<1:09:30, 245.35s/it]"
     ]
    },
    {
     "name": "stdout",
     "output_type": "stream",
     "text": [
      "Epoch 33 Perplexity: 1.0024\n",
      "Epoch 33 Lexical Diversity: 0.9894, Bigram Diversity: 1.0000\n",
      "Epoch 34/50\n"
     ]
    },
    {
     "name": "stderr",
     "output_type": "stream",
     "text": [
      "\n",
      "0it [00:00, ?it/s]\u001b[A\n",
      "1it [00:10, 10.92s/it]\u001b[A"
     ]
    },
    {
     "name": "stdout",
     "output_type": "stream",
     "text": [
      "Batch 0, Loss: 0.0024\n"
     ]
    },
    {
     "name": "stderr",
     "output_type": "stream",
     "text": [
      "\n",
      "2it [00:20, 10.15s/it]\u001b[A\n",
      "3it [00:30, 10.24s/it]\u001b[A\n",
      "4it [00:41, 10.46s/it]\u001b[A\n",
      "5it [00:51, 10.27s/it]\u001b[A\n",
      "6it [01:01, 10.11s/it]\u001b[A\n",
      "7it [01:11,  9.99s/it]\u001b[A\n",
      "8it [01:21, 10.06s/it]\u001b[A\n",
      "9it [01:31, 10.13s/it]\u001b[A\n",
      "10it [01:42, 10.33s/it]\u001b[A\n",
      "11it [01:52, 10.24s/it]\u001b[A"
     ]
    },
    {
     "name": "stdout",
     "output_type": "stream",
     "text": [
      "Batch 10, Loss: 0.0024\n"
     ]
    },
    {
     "name": "stderr",
     "output_type": "stream",
     "text": [
      "\n",
      "12it [02:02, 10.33s/it]\u001b[A\n",
      "13it [02:12, 10.20s/it]\u001b[A\n",
      "14it [02:23, 10.22s/it]\u001b[A\n",
      "15it [02:32, 10.04s/it]\u001b[A\n",
      "16it [02:43, 10.10s/it]\u001b[A\n",
      "17it [02:53, 10.09s/it]\u001b[A\n",
      "18it [03:02,  9.99s/it]\u001b[A\n",
      "19it [03:13, 10.11s/it]\u001b[A\n",
      "20it [03:23, 10.19s/it]\u001b[A\n",
      "21it [03:33, 10.23s/it]\u001b[A"
     ]
    },
    {
     "name": "stdout",
     "output_type": "stream",
     "text": [
      "Batch 20, Loss: 0.0023\n"
     ]
    },
    {
     "name": "stderr",
     "output_type": "stream",
     "text": [
      "\n",
      "22it [03:43, 10.02s/it]\u001b[A\n",
      "23it [03:53,  9.95s/it]\u001b[A\n",
      "24it [04:03, 10.13s/it]\u001b[A\n",
      " 68%|██████▊   | 34/50 [2:17:42<1:05:27, 245.44s/it]"
     ]
    },
    {
     "name": "stdout",
     "output_type": "stream",
     "text": [
      "Epoch 34 Perplexity: 1.0023\n",
      "Epoch 34 Lexical Diversity: 0.9894, Bigram Diversity: 1.0000\n",
      "Epoch 35/50\n"
     ]
    },
    {
     "name": "stderr",
     "output_type": "stream",
     "text": [
      "\n",
      "0it [00:00, ?it/s]\u001b[A\n",
      "1it [00:09,  9.69s/it]\u001b[A"
     ]
    },
    {
     "name": "stdout",
     "output_type": "stream",
     "text": [
      "Batch 0, Loss: 0.0023\n"
     ]
    },
    {
     "name": "stderr",
     "output_type": "stream",
     "text": [
      "\n",
      "2it [00:19,  9.82s/it]\u001b[A\n",
      "3it [00:30, 10.25s/it]\u001b[A\n",
      "4it [00:40, 10.24s/it]\u001b[A\n",
      "5it [00:50, 10.08s/it]\u001b[A\n",
      "6it [01:00,  9.98s/it]\u001b[A\n",
      "7it [01:10, 10.24s/it]\u001b[A\n",
      "8it [01:21, 10.28s/it]\u001b[A\n",
      "9it [01:30, 10.07s/it]\u001b[A\n",
      "10it [01:41, 10.26s/it]\u001b[A\n",
      "11it [01:51, 10.13s/it]\u001b[A"
     ]
    },
    {
     "name": "stdout",
     "output_type": "stream",
     "text": [
      "Batch 10, Loss: 0.0023\n"
     ]
    },
    {
     "name": "stderr",
     "output_type": "stream",
     "text": [
      "\n",
      "12it [02:01, 10.05s/it]\u001b[A\n",
      "13it [02:11, 10.08s/it]\u001b[A\n",
      "14it [02:21, 10.10s/it]\u001b[A\n",
      "15it [02:32, 10.28s/it]\u001b[A\n",
      "16it [02:41, 10.08s/it]\u001b[A\n",
      "17it [02:52, 10.11s/it]\u001b[A\n",
      "18it [03:02, 10.15s/it]\u001b[A\n",
      "19it [03:12, 10.19s/it]\u001b[A\n",
      "20it [03:22, 10.08s/it]\u001b[A\n",
      "21it [03:32, 10.14s/it]\u001b[A"
     ]
    },
    {
     "name": "stdout",
     "output_type": "stream",
     "text": [
      "Batch 20, Loss: 0.0022\n"
     ]
    },
    {
     "name": "stderr",
     "output_type": "stream",
     "text": [
      "\n",
      "22it [03:42,  9.94s/it]\u001b[A\n",
      "23it [03:52, 10.05s/it]\u001b[A\n",
      "24it [04:02, 10.10s/it]\u001b[A\n",
      " 70%|███████   | 35/50 [2:21:47<1:01:18, 245.25s/it]"
     ]
    },
    {
     "name": "stdout",
     "output_type": "stream",
     "text": [
      "Epoch 35 Perplexity: 1.0031\n",
      "Epoch 35 Lexical Diversity: 0.9894, Bigram Diversity: 1.0000\n",
      "Epoch 36/50\n"
     ]
    },
    {
     "name": "stderr",
     "output_type": "stream",
     "text": [
      "\n",
      "0it [00:00, ?it/s]\u001b[A\n",
      "1it [00:09,  9.90s/it]\u001b[A"
     ]
    },
    {
     "name": "stdout",
     "output_type": "stream",
     "text": [
      "Batch 0, Loss: 0.0022\n"
     ]
    },
    {
     "name": "stderr",
     "output_type": "stream",
     "text": [
      "\n",
      "2it [00:20, 10.12s/it]\u001b[A\n",
      "3it [00:29,  9.97s/it]\u001b[A\n",
      "4it [00:39,  9.81s/it]\u001b[A\n",
      "5it [00:49,  9.83s/it]\u001b[A\n",
      "6it [00:59,  9.82s/it]\u001b[A\n",
      "7it [01:08,  9.71s/it]\u001b[A\n",
      "8it [01:18,  9.84s/it]\u001b[A\n",
      "9it [01:29, 10.05s/it]\u001b[A\n",
      "10it [01:38,  9.92s/it]\u001b[A\n",
      "11it [01:48,  9.75s/it]\u001b[A"
     ]
    },
    {
     "name": "stdout",
     "output_type": "stream",
     "text": [
      "Batch 10, Loss: 0.0022\n"
     ]
    },
    {
     "name": "stderr",
     "output_type": "stream",
     "text": [
      "\n",
      "12it [01:58,  9.75s/it]\u001b[A\n",
      "13it [02:07,  9.79s/it]\u001b[A\n",
      "14it [02:18,  9.94s/it]\u001b[A\n",
      "15it [02:28, 10.17s/it]\u001b[A\n",
      "16it [02:39, 10.20s/it]\u001b[A\n",
      "17it [02:49, 10.16s/it]\u001b[A\n",
      "18it [02:59, 10.15s/it]\u001b[A\n",
      "19it [03:09, 10.17s/it]\u001b[A\n",
      "20it [03:19, 10.18s/it]\u001b[A\n",
      "21it [03:30, 10.36s/it]\u001b[A"
     ]
    },
    {
     "name": "stdout",
     "output_type": "stream",
     "text": [
      "Batch 20, Loss: 0.0021\n"
     ]
    },
    {
     "name": "stderr",
     "output_type": "stream",
     "text": [
      "\n",
      "22it [03:40, 10.20s/it]\u001b[A\n",
      "23it [03:50, 10.04s/it]\u001b[A\n",
      "24it [04:00, 10.03s/it]\u001b[A\n",
      " 72%|███████▏  | 36/50 [2:25:50<57:04, 244.64s/it]  "
     ]
    },
    {
     "name": "stdout",
     "output_type": "stream",
     "text": [
      "Epoch 36 Perplexity: 1.0021\n",
      "Epoch 36 Lexical Diversity: 0.9894, Bigram Diversity: 1.0000\n",
      "Epoch 37/50\n"
     ]
    },
    {
     "name": "stderr",
     "output_type": "stream",
     "text": [
      "\n",
      "0it [00:00, ?it/s]\u001b[A\n",
      "1it [00:09,  9.95s/it]\u001b[A"
     ]
    },
    {
     "name": "stdout",
     "output_type": "stream",
     "text": [
      "Batch 0, Loss: 0.0021\n"
     ]
    },
    {
     "name": "stderr",
     "output_type": "stream",
     "text": [
      "\n",
      "2it [00:20, 10.05s/it]\u001b[A\n",
      "3it [00:29,  9.86s/it]\u001b[A\n",
      "4it [00:39, 10.02s/it]\u001b[A\n",
      "5it [00:50, 10.09s/it]\u001b[A\n",
      "6it [01:00, 10.15s/it]\u001b[A\n",
      "7it [01:10, 10.17s/it]\u001b[A\n",
      "8it [01:20,  9.94s/it]\u001b[A\n",
      "9it [01:29,  9.92s/it]\u001b[A\n",
      "10it [01:40, 10.18s/it]\u001b[A\n",
      "11it [01:50, 10.08s/it]\u001b[A"
     ]
    },
    {
     "name": "stdout",
     "output_type": "stream",
     "text": [
      "Batch 10, Loss: 0.0021\n"
     ]
    },
    {
     "name": "stderr",
     "output_type": "stream",
     "text": [
      "\n",
      "12it [02:00,  9.92s/it]\u001b[A\n",
      "13it [02:10,  9.97s/it]\u001b[A\n",
      "14it [02:20,  9.91s/it]\u001b[A\n",
      "15it [02:30,  9.95s/it]\u001b[A\n",
      "16it [02:40, 10.15s/it]\u001b[A\n",
      "17it [02:50, 10.03s/it]\u001b[A\n",
      "18it [03:00, 10.07s/it]\u001b[A\n",
      "19it [03:10, 10.04s/it]\u001b[A\n",
      "20it [03:20, 10.11s/it]\u001b[A\n",
      "21it [03:31, 10.30s/it]\u001b[A"
     ]
    },
    {
     "name": "stdout",
     "output_type": "stream",
     "text": [
      "Batch 20, Loss: 0.0020\n"
     ]
    },
    {
     "name": "stderr",
     "output_type": "stream",
     "text": [
      "\n",
      "22it [03:41, 10.07s/it]\u001b[A\n",
      "23it [03:51, 10.12s/it]\u001b[A\n",
      "24it [04:00, 10.04s/it]\u001b[A\n",
      " 74%|███████▍  | 37/50 [2:29:53<52:55, 244.26s/it]"
     ]
    },
    {
     "name": "stdout",
     "output_type": "stream",
     "text": [
      "Epoch 37 Perplexity: 1.0020\n",
      "Epoch 37 Lexical Diversity: 0.9894, Bigram Diversity: 1.0000\n",
      "Epoch 38/50\n"
     ]
    },
    {
     "name": "stderr",
     "output_type": "stream",
     "text": [
      "\n",
      "0it [00:00, ?it/s]\u001b[A\n",
      "1it [00:10, 10.47s/it]\u001b[A"
     ]
    },
    {
     "name": "stdout",
     "output_type": "stream",
     "text": [
      "Batch 0, Loss: 0.0020\n"
     ]
    },
    {
     "name": "stderr",
     "output_type": "stream",
     "text": [
      "\n",
      "2it [00:20, 10.20s/it]\u001b[A\n",
      "3it [00:30, 10.17s/it]\u001b[A\n",
      "4it [00:40, 10.16s/it]\u001b[A\n",
      "5it [00:51, 10.20s/it]\u001b[A\n",
      "6it [01:01, 10.12s/it]\u001b[A\n",
      "7it [01:11, 10.16s/it]\u001b[A\n",
      "8it [01:21, 10.08s/it]\u001b[A\n",
      "9it [01:31, 10.01s/it]\u001b[A\n",
      "10it [01:40,  9.92s/it]\u001b[A\n",
      "11it [01:50,  9.95s/it]\u001b[A"
     ]
    },
    {
     "name": "stdout",
     "output_type": "stream",
     "text": [
      "Batch 10, Loss: 0.0020\n"
     ]
    },
    {
     "name": "stderr",
     "output_type": "stream",
     "text": [
      "\n",
      "12it [02:00,  9.89s/it]\u001b[A\n",
      "13it [02:10,  9.89s/it]\u001b[A\n",
      "14it [02:20,  9.81s/it]\u001b[A\n",
      "15it [02:30,  9.92s/it]\u001b[A\n",
      "16it [02:40, 10.16s/it]\u001b[A\n",
      "17it [02:51, 10.35s/it]\u001b[A\n",
      "18it [03:01, 10.24s/it]\u001b[A\n",
      "19it [03:11, 10.15s/it]\u001b[A\n",
      "20it [03:21, 10.11s/it]\u001b[A\n",
      "21it [03:31, 10.16s/it]\u001b[A"
     ]
    },
    {
     "name": "stdout",
     "output_type": "stream",
     "text": [
      "Batch 20, Loss: 0.0019\n"
     ]
    },
    {
     "name": "stderr",
     "output_type": "stream",
     "text": [
      "\n",
      "22it [03:41, 10.02s/it]\u001b[A\n",
      "23it [03:51,  9.90s/it]\u001b[A\n",
      "24it [04:02, 10.09s/it]\u001b[A\n",
      " 76%|███████▌  | 38/50 [2:33:58<48:52, 244.34s/it]"
     ]
    },
    {
     "name": "stdout",
     "output_type": "stream",
     "text": [
      "Epoch 38 Perplexity: 1.0019\n",
      "Epoch 38 Lexical Diversity: 0.9894, Bigram Diversity: 1.0000\n",
      "Epoch 39/50\n"
     ]
    },
    {
     "name": "stderr",
     "output_type": "stream",
     "text": [
      "\n",
      "0it [00:00, ?it/s]\u001b[A\n",
      "1it [00:10, 10.68s/it]\u001b[A"
     ]
    },
    {
     "name": "stdout",
     "output_type": "stream",
     "text": [
      "Batch 0, Loss: 0.0019\n"
     ]
    },
    {
     "name": "stderr",
     "output_type": "stream",
     "text": [
      "\n",
      "2it [00:20, 10.42s/it]\u001b[A\n",
      "3it [00:31, 10.31s/it]\u001b[A\n",
      "4it [00:40, 10.09s/it]\u001b[A\n",
      "5it [00:51, 10.32s/it]\u001b[A\n",
      "6it [01:01, 10.10s/it]\u001b[A\n",
      "7it [01:10,  9.93s/it]\u001b[A\n",
      "8it [01:21, 10.03s/it]\u001b[A\n",
      "9it [01:31, 10.04s/it]\u001b[A\n",
      "10it [01:41, 10.17s/it]\u001b[A\n",
      "11it [01:51, 10.02s/it]\u001b[A"
     ]
    },
    {
     "name": "stdout",
     "output_type": "stream",
     "text": [
      "Batch 10, Loss: 0.0019\n"
     ]
    },
    {
     "name": "stderr",
     "output_type": "stream",
     "text": [
      "\n",
      "12it [02:01,  9.94s/it]\u001b[A\n",
      "13it [02:11,  9.95s/it]\u001b[A\n",
      "14it [02:20,  9.96s/it]\u001b[A\n",
      "15it [02:30,  9.93s/it]\u001b[A\n",
      "16it [02:40,  9.89s/it]\u001b[A\n",
      "17it [02:51, 10.12s/it]\u001b[A\n",
      "18it [03:01, 10.04s/it]\u001b[A\n",
      "19it [03:11,  9.99s/it]\u001b[A\n",
      "20it [03:20,  9.92s/it]\u001b[A\n",
      "21it [03:30,  9.97s/it]\u001b[A"
     ]
    },
    {
     "name": "stdout",
     "output_type": "stream",
     "text": [
      "Batch 20, Loss: 0.0018\n"
     ]
    },
    {
     "name": "stderr",
     "output_type": "stream",
     "text": [
      "\n",
      "22it [03:40,  9.99s/it]\u001b[A\n",
      "23it [03:51, 10.09s/it]\u001b[A\n",
      "24it [04:01, 10.06s/it]\u001b[A\n",
      " 78%|███████▊  | 39/50 [2:38:02<44:46, 244.20s/it]"
     ]
    },
    {
     "name": "stdout",
     "output_type": "stream",
     "text": [
      "Epoch 39 Perplexity: 1.0019\n",
      "Epoch 39 Lexical Diversity: 0.9894, Bigram Diversity: 1.0000\n",
      "Epoch 40/50\n"
     ]
    },
    {
     "name": "stderr",
     "output_type": "stream",
     "text": [
      "\n",
      "0it [00:00, ?it/s]\u001b[A\n",
      "1it [00:10, 10.05s/it]\u001b[A"
     ]
    },
    {
     "name": "stdout",
     "output_type": "stream",
     "text": [
      "Batch 0, Loss: 0.0034\n"
     ]
    },
    {
     "name": "stderr",
     "output_type": "stream",
     "text": [
      "\n",
      "2it [00:19,  9.92s/it]\u001b[A\n",
      "3it [00:29,  9.75s/it]\u001b[A\n",
      "4it [00:40, 10.17s/it]\u001b[A\n",
      "5it [00:49, 10.00s/it]\u001b[A\n",
      "6it [01:00, 10.10s/it]\u001b[A\n",
      "7it [01:10, 10.27s/it]\u001b[A\n",
      "8it [01:20, 10.20s/it]\u001b[A\n",
      "9it [01:30, 10.11s/it]\u001b[A\n",
      "10it [01:41, 10.14s/it]\u001b[A\n",
      "11it [01:50, 10.06s/it]\u001b[A"
     ]
    },
    {
     "name": "stdout",
     "output_type": "stream",
     "text": [
      "Batch 10, Loss: 0.0018\n"
     ]
    },
    {
     "name": "stderr",
     "output_type": "stream",
     "text": [
      "\n",
      "12it [02:00,  9.92s/it]\u001b[A\n",
      "13it [02:11, 10.15s/it]\u001b[A\n",
      "14it [02:21, 10.08s/it]\u001b[A\n",
      "15it [02:30,  9.98s/it]\u001b[A\n",
      "16it [02:41, 10.06s/it]\u001b[A\n",
      "17it [02:51, 10.16s/it]\u001b[A\n",
      "18it [03:01, 10.04s/it]\u001b[A\n",
      "19it [03:11, 10.10s/it]\u001b[A\n",
      "20it [03:21, 10.12s/it]\u001b[A\n",
      "21it [03:31,  9.98s/it]\u001b[A"
     ]
    },
    {
     "name": "stdout",
     "output_type": "stream",
     "text": [
      "Batch 20, Loss: 0.0036\n"
     ]
    },
    {
     "name": "stderr",
     "output_type": "stream",
     "text": [
      "\n",
      "22it [03:41,  9.95s/it]\u001b[A\n",
      "23it [03:51, 10.20s/it]\u001b[A\n",
      "24it [04:02, 10.09s/it]\u001b[A\n",
      " 80%|████████  | 40/50 [2:42:07<40:43, 244.37s/it]"
     ]
    },
    {
     "name": "stdout",
     "output_type": "stream",
     "text": [
      "Epoch 40 Perplexity: 1.0018\n",
      "Epoch 40 Lexical Diversity: 0.9894, Bigram Diversity: 1.0000\n",
      "Epoch 41/50\n"
     ]
    },
    {
     "name": "stderr",
     "output_type": "stream",
     "text": [
      "\n",
      "0it [00:00, ?it/s]\u001b[A\n",
      "1it [00:10, 10.19s/it]\u001b[A"
     ]
    },
    {
     "name": "stdout",
     "output_type": "stream",
     "text": [
      "Batch 0, Loss: 0.0018\n"
     ]
    },
    {
     "name": "stderr",
     "output_type": "stream",
     "text": [
      "\n",
      "2it [00:21, 10.57s/it]\u001b[A\n",
      "3it [00:31, 10.42s/it]\u001b[A\n",
      "4it [00:41, 10.53s/it]\u001b[A\n",
      "5it [00:51, 10.16s/it]\u001b[A\n",
      "6it [01:01, 10.16s/it]\u001b[A\n",
      "7it [01:11,  9.98s/it]\u001b[A\n",
      "8it [01:21, 10.01s/it]\u001b[A\n",
      "9it [01:31, 10.15s/it]\u001b[A\n",
      "10it [01:41, 10.02s/it]\u001b[A\n",
      "11it [01:51, 10.07s/it]\u001b[A"
     ]
    },
    {
     "name": "stdout",
     "output_type": "stream",
     "text": [
      "Batch 10, Loss: 0.0017\n"
     ]
    },
    {
     "name": "stderr",
     "output_type": "stream",
     "text": [
      "\n",
      "12it [02:01,  9.90s/it]\u001b[A\n",
      "13it [02:11, 10.00s/it]\u001b[A\n",
      "14it [02:20,  9.86s/it]\u001b[A\n",
      "15it [02:31, 10.12s/it]\u001b[A\n",
      "16it [02:41,  9.95s/it]\u001b[A\n",
      "17it [02:50,  9.88s/it]\u001b[A\n",
      "18it [03:00,  9.93s/it]\u001b[A\n",
      "19it [03:10,  9.87s/it]\u001b[A\n",
      "20it [03:20,  9.89s/it]\u001b[A\n",
      "21it [03:30,  9.97s/it]\u001b[A"
     ]
    },
    {
     "name": "stdout",
     "output_type": "stream",
     "text": [
      "Batch 20, Loss: 0.0017\n"
     ]
    },
    {
     "name": "stderr",
     "output_type": "stream",
     "text": [
      "\n",
      "22it [03:40,  9.90s/it]\u001b[A\n",
      "23it [03:50,  9.84s/it]\u001b[A\n",
      "24it [04:00, 10.01s/it]\u001b[A\n",
      " 82%|████████▏ | 41/50 [2:46:09<36:35, 243.89s/it]"
     ]
    },
    {
     "name": "stdout",
     "output_type": "stream",
     "text": [
      "Epoch 41 Perplexity: 1.0017\n",
      "Epoch 41 Lexical Diversity: 0.9894, Bigram Diversity: 1.0000\n",
      "Epoch 42/50\n"
     ]
    },
    {
     "name": "stderr",
     "output_type": "stream",
     "text": [
      "\n",
      "0it [00:00, ?it/s]\u001b[A\n",
      "1it [00:09,  9.62s/it]\u001b[A"
     ]
    },
    {
     "name": "stdout",
     "output_type": "stream",
     "text": [
      "Batch 0, Loss: 0.0017\n"
     ]
    },
    {
     "name": "stderr",
     "output_type": "stream",
     "text": [
      "\n",
      "2it [00:19, 10.01s/it]\u001b[A\n",
      "3it [00:30, 10.12s/it]\u001b[A\n",
      "4it [00:39,  9.91s/it]\u001b[A\n",
      "5it [00:49,  9.97s/it]\u001b[A\n",
      "6it [00:59,  9.89s/it]\u001b[A\n",
      "7it [01:09,  9.82s/it]\u001b[A\n",
      "8it [01:20, 10.14s/it]\u001b[A\n",
      "9it [01:30, 10.11s/it]\u001b[A\n",
      "10it [01:40, 10.15s/it]\u001b[A\n",
      "11it [01:50, 10.18s/it]\u001b[A"
     ]
    },
    {
     "name": "stdout",
     "output_type": "stream",
     "text": [
      "Batch 10, Loss: 0.0016\n"
     ]
    },
    {
     "name": "stderr",
     "output_type": "stream",
     "text": [
      "\n",
      "12it [02:00, 10.23s/it]\u001b[A\n",
      "13it [02:10, 10.05s/it]\u001b[A\n",
      "14it [02:21, 10.29s/it]\u001b[A\n",
      "15it [02:31, 10.16s/it]\u001b[A\n",
      "16it [02:41, 10.18s/it]\u001b[A\n",
      "17it [02:51, 10.08s/it]\u001b[A\n",
      "18it [03:01, 10.21s/it]\u001b[A\n",
      "19it [03:12, 10.32s/it]\u001b[A\n",
      "20it [03:22, 10.20s/it]\u001b[A\n",
      "21it [03:32, 10.06s/it]\u001b[A"
     ]
    },
    {
     "name": "stdout",
     "output_type": "stream",
     "text": [
      "Batch 20, Loss: 0.0046\n"
     ]
    },
    {
     "name": "stderr",
     "output_type": "stream",
     "text": [
      "\n",
      "22it [03:42, 10.14s/it]\u001b[A\n",
      "23it [03:52, 10.16s/it]\u001b[A\n",
      "24it [04:02, 10.11s/it]\u001b[A\n",
      " 84%|████████▍ | 42/50 [2:50:14<32:33, 244.23s/it]"
     ]
    },
    {
     "name": "stdout",
     "output_type": "stream",
     "text": [
      "Epoch 42 Perplexity: 1.0016\n",
      "Epoch 42 Lexical Diversity: 0.9894, Bigram Diversity: 1.0000\n",
      "Epoch 43/50\n"
     ]
    },
    {
     "name": "stderr",
     "output_type": "stream",
     "text": [
      "\n",
      "0it [00:00, ?it/s]\u001b[A\n",
      "1it [00:09,  9.51s/it]\u001b[A"
     ]
    },
    {
     "name": "stdout",
     "output_type": "stream",
     "text": [
      "Batch 0, Loss: 0.0016\n"
     ]
    },
    {
     "name": "stderr",
     "output_type": "stream",
     "text": [
      "\n",
      "2it [00:19,  9.80s/it]\u001b[A\n",
      "3it [00:29,  9.97s/it]\u001b[A\n",
      "4it [00:39,  9.97s/it]\u001b[A\n",
      "5it [00:49,  9.98s/it]\u001b[A\n",
      "6it [00:59, 10.02s/it]\u001b[A\n",
      "7it [01:09,  9.94s/it]\u001b[A\n",
      "8it [01:20, 10.16s/it]\u001b[A\n",
      "9it [01:30, 10.13s/it]\u001b[A\n",
      "10it [01:40, 10.13s/it]\u001b[A\n",
      "11it [01:50, 10.03s/it]\u001b[A"
     ]
    },
    {
     "name": "stdout",
     "output_type": "stream",
     "text": [
      "Batch 10, Loss: 0.0016\n"
     ]
    },
    {
     "name": "stderr",
     "output_type": "stream",
     "text": [
      "\n",
      "12it [02:00, 10.27s/it]\u001b[A\n",
      "13it [02:10, 10.05s/it]\u001b[A\n",
      "14it [02:21, 10.26s/it]\u001b[A\n",
      "15it [02:31, 10.23s/it]\u001b[A\n",
      "16it [02:41, 10.23s/it]\u001b[A\n",
      "17it [02:51, 10.21s/it]\u001b[A\n",
      "18it [03:01, 10.05s/it]\u001b[A\n",
      "19it [03:11, 10.15s/it]\u001b[A\n",
      "20it [03:21,  9.98s/it]\u001b[A\n",
      "21it [03:31,  9.91s/it]\u001b[A"
     ]
    },
    {
     "name": "stdout",
     "output_type": "stream",
     "text": [
      "Batch 20, Loss: 0.0016\n"
     ]
    },
    {
     "name": "stderr",
     "output_type": "stream",
     "text": [
      "\n",
      "22it [03:41,  9.95s/it]\u001b[A\n",
      "23it [03:51, 10.02s/it]\u001b[A\n",
      "24it [04:01, 10.05s/it]\u001b[A\n",
      " 86%|████████▌ | 43/50 [2:54:18<28:28, 244.03s/it]"
     ]
    },
    {
     "name": "stdout",
     "output_type": "stream",
     "text": [
      "Epoch 43 Perplexity: 1.0015\n",
      "Epoch 43 Lexical Diversity: 0.9894, Bigram Diversity: 1.0000\n",
      "Epoch 44/50\n"
     ]
    },
    {
     "name": "stderr",
     "output_type": "stream",
     "text": [
      "\n",
      "0it [00:00, ?it/s]\u001b[A\n",
      "1it [00:10, 10.16s/it]\u001b[A"
     ]
    },
    {
     "name": "stdout",
     "output_type": "stream",
     "text": [
      "Batch 0, Loss: 0.0016\n"
     ]
    },
    {
     "name": "stderr",
     "output_type": "stream",
     "text": [
      "\n",
      "2it [00:20, 10.19s/it]\u001b[A\n",
      "3it [00:30, 10.21s/it]\u001b[A\n",
      "4it [00:40,  9.91s/it]\u001b[A\n",
      "5it [00:50, 10.18s/it]\u001b[A\n",
      "6it [01:00, 10.13s/it]\u001b[A\n",
      "7it [01:10, 10.00s/it]\u001b[A\n",
      "8it [01:20,  9.91s/it]\u001b[A\n",
      "9it [01:30, 10.00s/it]\u001b[A\n",
      "10it [01:40,  9.97s/it]\u001b[A\n",
      "11it [01:50, 10.01s/it]\u001b[A"
     ]
    },
    {
     "name": "stdout",
     "output_type": "stream",
     "text": [
      "Batch 10, Loss: 0.0015\n"
     ]
    },
    {
     "name": "stderr",
     "output_type": "stream",
     "text": [
      "\n",
      "12it [02:00, 10.03s/it]\u001b[A\n",
      "13it [02:10,  9.95s/it]\u001b[A\n",
      "14it [02:21, 10.22s/it]\u001b[A\n",
      "15it [02:31, 10.24s/it]\u001b[A\n",
      "16it [02:41, 10.13s/it]\u001b[A\n",
      "17it [02:51, 10.16s/it]\u001b[A\n",
      "18it [03:01, 10.13s/it]\u001b[A\n",
      "19it [03:12, 10.34s/it]\u001b[A\n",
      "20it [03:22, 10.29s/it]\u001b[A\n",
      "21it [03:32, 10.18s/it]\u001b[A"
     ]
    },
    {
     "name": "stdout",
     "output_type": "stream",
     "text": [
      "Batch 20, Loss: 0.0028\n"
     ]
    },
    {
     "name": "stderr",
     "output_type": "stream",
     "text": [
      "\n",
      "22it [03:42, 10.10s/it]\u001b[A\n",
      "23it [03:53, 10.31s/it]\u001b[A\n",
      "24it [04:03, 10.14s/it]\u001b[A\n",
      " 88%|████████▊ | 44/50 [2:58:24<24:27, 244.57s/it]"
     ]
    },
    {
     "name": "stdout",
     "output_type": "stream",
     "text": [
      "Epoch 44 Perplexity: 1.0015\n",
      "Epoch 44 Lexical Diversity: 0.9894, Bigram Diversity: 1.0000\n",
      "Epoch 45/50\n"
     ]
    },
    {
     "name": "stderr",
     "output_type": "stream",
     "text": [
      "\n",
      "0it [00:00, ?it/s]\u001b[A\n",
      "1it [00:09,  9.93s/it]\u001b[A"
     ]
    },
    {
     "name": "stdout",
     "output_type": "stream",
     "text": [
      "Batch 0, Loss: 0.0015\n"
     ]
    },
    {
     "name": "stderr",
     "output_type": "stream",
     "text": [
      "\n",
      "2it [00:20, 10.13s/it]\u001b[A\n",
      "3it [00:29,  9.97s/it]\u001b[A\n",
      "4it [00:40, 10.08s/it]\u001b[A\n",
      "5it [00:50, 10.02s/it]\u001b[A\n",
      "6it [01:00, 10.05s/it]\u001b[A\n",
      "7it [01:10, 10.07s/it]\u001b[A\n",
      "8it [01:20, 10.03s/it]\u001b[A\n",
      "9it [01:30,  9.93s/it]\u001b[A\n",
      "10it [01:40, 10.01s/it]\u001b[A\n",
      "11it [01:50, 10.06s/it]\u001b[A"
     ]
    },
    {
     "name": "stdout",
     "output_type": "stream",
     "text": [
      "Batch 10, Loss: 0.0022\n"
     ]
    },
    {
     "name": "stderr",
     "output_type": "stream",
     "text": [
      "\n",
      "12it [02:00, 10.06s/it]\u001b[A\n",
      "13it [02:10,  9.92s/it]\u001b[A\n",
      "14it [02:19,  9.85s/it]\u001b[A\n",
      "15it [02:29,  9.79s/it]\u001b[A\n",
      "16it [02:38,  9.74s/it]\u001b[A\n",
      "17it [02:49, 10.11s/it]\u001b[A\n",
      "18it [03:00, 10.11s/it]\u001b[A\n",
      "19it [03:10, 10.07s/it]\u001b[A\n",
      "20it [03:20, 10.28s/it]\u001b[A\n",
      "21it [03:31, 10.41s/it]\u001b[A"
     ]
    },
    {
     "name": "stdout",
     "output_type": "stream",
     "text": [
      "Batch 20, Loss: 0.0014\n"
     ]
    },
    {
     "name": "stderr",
     "output_type": "stream",
     "text": [
      "\n",
      "22it [03:41, 10.20s/it]\u001b[A\n",
      "23it [03:51, 10.07s/it]\u001b[A\n",
      "24it [04:01, 10.06s/it]\u001b[A\n",
      " 90%|█████████ | 45/50 [3:02:28<20:22, 244.40s/it]"
     ]
    },
    {
     "name": "stdout",
     "output_type": "stream",
     "text": [
      "Epoch 45 Perplexity: 1.0015\n",
      "Epoch 45 Lexical Diversity: 0.9894, Bigram Diversity: 1.0000\n",
      "Epoch 46/50\n"
     ]
    },
    {
     "name": "stderr",
     "output_type": "stream",
     "text": [
      "\n",
      "0it [00:00, ?it/s]\u001b[A\n",
      "1it [00:10, 10.25s/it]\u001b[A"
     ]
    },
    {
     "name": "stdout",
     "output_type": "stream",
     "text": [
      "Batch 0, Loss: 0.0014\n"
     ]
    },
    {
     "name": "stderr",
     "output_type": "stream",
     "text": [
      "\n",
      "2it [00:20, 10.17s/it]\u001b[A\n",
      "3it [00:29,  9.87s/it]\u001b[A\n",
      "4it [00:39,  9.79s/it]\u001b[A\n",
      "5it [00:49,  9.85s/it]\u001b[A\n",
      "6it [00:59,  9.99s/it]\u001b[A\n",
      "7it [01:10, 10.21s/it]\u001b[A\n",
      "8it [01:20, 10.23s/it]\u001b[A\n",
      "9it [01:30, 10.21s/it]\u001b[A\n",
      "10it [01:41, 10.30s/it]\u001b[A\n",
      "11it [01:51, 10.40s/it]\u001b[A"
     ]
    },
    {
     "name": "stdout",
     "output_type": "stream",
     "text": [
      "Batch 10, Loss: 0.0014\n"
     ]
    },
    {
     "name": "stderr",
     "output_type": "stream",
     "text": [
      "\n",
      "12it [02:02, 10.32s/it]\u001b[A\n",
      "13it [02:12, 10.22s/it]\u001b[A\n",
      "14it [02:21, 10.12s/it]\u001b[A\n",
      "15it [02:32, 10.09s/it]\u001b[A\n",
      "16it [02:41, 10.00s/it]\u001b[A\n",
      "17it [02:52, 10.09s/it]\u001b[A\n",
      "18it [03:02, 10.03s/it]\u001b[A\n",
      "19it [03:11,  9.99s/it]\u001b[A\n",
      "20it [03:22, 10.07s/it]\u001b[A\n",
      "21it [03:31,  9.88s/it]\u001b[A"
     ]
    },
    {
     "name": "stdout",
     "output_type": "stream",
     "text": [
      "Batch 20, Loss: 0.0014\n"
     ]
    },
    {
     "name": "stderr",
     "output_type": "stream",
     "text": [
      "\n",
      "22it [03:41,  9.83s/it]\u001b[A\n",
      "23it [03:52, 10.11s/it]\u001b[A\n",
      "24it [04:02, 10.09s/it]\u001b[A\n",
      " 92%|█████████▏| 46/50 [3:06:33<16:17, 244.48s/it]"
     ]
    },
    {
     "name": "stdout",
     "output_type": "stream",
     "text": [
      "Epoch 46 Perplexity: 1.0014\n",
      "Epoch 46 Lexical Diversity: 0.9894, Bigram Diversity: 1.0000\n",
      "Epoch 47/50\n"
     ]
    },
    {
     "name": "stderr",
     "output_type": "stream",
     "text": [
      "\n",
      "0it [00:00, ?it/s]\u001b[A\n",
      "1it [00:10, 10.09s/it]\u001b[A"
     ]
    },
    {
     "name": "stdout",
     "output_type": "stream",
     "text": [
      "Batch 0, Loss: 0.0014\n"
     ]
    },
    {
     "name": "stderr",
     "output_type": "stream",
     "text": [
      "\n",
      "2it [00:20, 10.19s/it]\u001b[A\n",
      "3it [00:30, 10.16s/it]\u001b[A\n",
      "4it [00:40,  9.96s/it]\u001b[A\n",
      "5it [00:49,  9.81s/it]\u001b[A\n",
      "6it [00:59,  9.83s/it]\u001b[A\n",
      "7it [01:09,  9.86s/it]\u001b[A\n",
      "8it [01:19,  9.81s/it]\u001b[A\n",
      "9it [01:29, 10.10s/it]\u001b[A\n",
      "10it [01:40, 10.26s/it]\u001b[A\n",
      "11it [01:50, 10.24s/it]\u001b[A"
     ]
    },
    {
     "name": "stdout",
     "output_type": "stream",
     "text": [
      "Batch 10, Loss: 0.0014\n"
     ]
    },
    {
     "name": "stderr",
     "output_type": "stream",
     "text": [
      "\n",
      "12it [02:00, 10.13s/it]\u001b[A\n",
      "13it [02:10, 10.17s/it]\u001b[A\n",
      "14it [02:20, 10.08s/it]\u001b[A\n",
      "15it [02:31, 10.17s/it]\u001b[A\n",
      "16it [02:41, 10.38s/it]\u001b[A\n",
      "17it [02:52, 10.28s/it]\u001b[A\n",
      "18it [03:02, 10.40s/it]\u001b[A\n",
      "19it [03:12, 10.14s/it]\u001b[A\n",
      "20it [03:21, 10.02s/it]\u001b[A\n",
      "21it [03:31,  9.95s/it]\u001b[A"
     ]
    },
    {
     "name": "stdout",
     "output_type": "stream",
     "text": [
      "Batch 20, Loss: 0.0013\n"
     ]
    },
    {
     "name": "stderr",
     "output_type": "stream",
     "text": [
      "\n",
      "22it [03:41,  9.89s/it]\u001b[A\n",
      "23it [03:51,  9.84s/it]\u001b[A\n",
      "24it [04:01, 10.06s/it]\u001b[A\n",
      " 94%|█████████▍| 47/50 [3:10:36<12:12, 244.28s/it]"
     ]
    },
    {
     "name": "stdout",
     "output_type": "stream",
     "text": [
      "Epoch 47 Perplexity: 1.0013\n",
      "Epoch 47 Lexical Diversity: 0.9894, Bigram Diversity: 1.0000\n",
      "Epoch 48/50\n"
     ]
    },
    {
     "name": "stderr",
     "output_type": "stream",
     "text": [
      "\n",
      "0it [00:00, ?it/s]\u001b[A\n",
      "1it [00:09,  9.62s/it]\u001b[A"
     ]
    },
    {
     "name": "stdout",
     "output_type": "stream",
     "text": [
      "Batch 0, Loss: 0.0013\n"
     ]
    },
    {
     "name": "stderr",
     "output_type": "stream",
     "text": [
      "\n",
      "2it [00:19,  9.97s/it]\u001b[A\n",
      "3it [00:30, 10.06s/it]\u001b[A\n",
      "4it [00:39,  9.85s/it]\u001b[A\n",
      "5it [00:49,  9.91s/it]\u001b[A\n",
      "6it [01:00, 10.28s/it]\u001b[A\n",
      "7it [01:10, 10.13s/it]\u001b[A\n",
      "8it [01:21, 10.37s/it]\u001b[A\n",
      "9it [01:31, 10.25s/it]\u001b[A\n",
      "10it [01:41, 10.16s/it]\u001b[A\n",
      "11it [01:51, 10.14s/it]\u001b[A"
     ]
    },
    {
     "name": "stdout",
     "output_type": "stream",
     "text": [
      "Batch 10, Loss: 0.0013\n"
     ]
    },
    {
     "name": "stderr",
     "output_type": "stream",
     "text": [
      "\n",
      "12it [02:01, 10.04s/it]\u001b[A\n",
      "13it [02:11, 10.08s/it]\u001b[A\n",
      "14it [02:20,  9.93s/it]\u001b[A\n",
      "15it [02:31, 10.02s/it]\u001b[A\n",
      "16it [02:41, 10.22s/it]\u001b[A\n",
      "17it [02:51, 10.15s/it]\u001b[A\n",
      "18it [03:01, 10.16s/it]\u001b[A\n",
      "19it [03:12, 10.18s/it]\u001b[A\n",
      "20it [03:23, 10.39s/it]\u001b[A\n",
      "21it [03:33, 10.36s/it]\u001b[A"
     ]
    },
    {
     "name": "stdout",
     "output_type": "stream",
     "text": [
      "Batch 20, Loss: 0.0026\n"
     ]
    },
    {
     "name": "stderr",
     "output_type": "stream",
     "text": [
      "\n",
      "22it [03:43, 10.34s/it]\u001b[A\n",
      "23it [03:53, 10.25s/it]\u001b[A\n",
      "24it [04:03, 10.16s/it]\u001b[A\n",
      " 96%|█████████▌| 48/50 [3:14:43<08:09, 244.90s/it]"
     ]
    },
    {
     "name": "stdout",
     "output_type": "stream",
     "text": [
      "Epoch 48 Perplexity: 1.0013\n",
      "Epoch 48 Lexical Diversity: 0.9894, Bigram Diversity: 1.0000\n",
      "Epoch 49/50\n"
     ]
    },
    {
     "name": "stderr",
     "output_type": "stream",
     "text": [
      "\n",
      "0it [00:00, ?it/s]\u001b[A\n",
      "1it [00:09,  9.68s/it]\u001b[A"
     ]
    },
    {
     "name": "stdout",
     "output_type": "stream",
     "text": [
      "Batch 0, Loss: 0.0013\n"
     ]
    },
    {
     "name": "stderr",
     "output_type": "stream",
     "text": [
      "\n",
      "2it [00:19,  9.94s/it]\u001b[A\n",
      "3it [00:30, 10.32s/it]\u001b[A\n",
      "4it [00:40, 10.21s/it]\u001b[A\n",
      "5it [00:50, 10.20s/it]\u001b[A\n",
      "6it [01:00, 10.12s/it]\u001b[A\n",
      "7it [01:11, 10.30s/it]\u001b[A\n",
      "8it [01:21, 10.15s/it]\u001b[A\n",
      "9it [01:31, 10.09s/it]\u001b[A\n",
      "10it [01:41,  9.99s/it]\u001b[A\n",
      "11it [01:51, 10.21s/it]\u001b[A"
     ]
    },
    {
     "name": "stdout",
     "output_type": "stream",
     "text": [
      "Batch 10, Loss: 0.0013\n"
     ]
    },
    {
     "name": "stderr",
     "output_type": "stream",
     "text": [
      "\n",
      "12it [02:01, 10.15s/it]\u001b[A\n",
      "13it [02:11, 10.00s/it]\u001b[A\n",
      "14it [02:21,  9.97s/it]\u001b[A\n",
      "15it [02:31,  9.90s/it]\u001b[A\n",
      "16it [02:41,  9.97s/it]\u001b[A\n",
      "17it [02:50,  9.91s/it]\u001b[A\n",
      "18it [03:00,  9.75s/it]\u001b[A\n",
      "19it [03:09,  9.70s/it]\u001b[A\n",
      "20it [03:19,  9.81s/it]\u001b[A\n",
      "21it [03:29,  9.69s/it]\u001b[A"
     ]
    },
    {
     "name": "stdout",
     "output_type": "stream",
     "text": [
      "Batch 20, Loss: 0.0012\n"
     ]
    },
    {
     "name": "stderr",
     "output_type": "stream",
     "text": [
      "\n",
      "22it [03:39,  9.80s/it]\u001b[A\n",
      "23it [03:49,  9.78s/it]\u001b[A\n",
      "24it [03:59,  9.99s/it]\u001b[A\n",
      " 98%|█████████▊| 49/50 [3:18:45<04:04, 244.09s/it]"
     ]
    },
    {
     "name": "stdout",
     "output_type": "stream",
     "text": [
      "Epoch 49 Perplexity: 1.0013\n",
      "Epoch 49 Lexical Diversity: 0.9894, Bigram Diversity: 1.0000\n",
      "Epoch 50/50\n"
     ]
    },
    {
     "name": "stderr",
     "output_type": "stream",
     "text": [
      "\n",
      "0it [00:00, ?it/s]\u001b[A\n",
      "1it [00:10, 10.03s/it]\u001b[A"
     ]
    },
    {
     "name": "stdout",
     "output_type": "stream",
     "text": [
      "Batch 0, Loss: 0.0012\n"
     ]
    },
    {
     "name": "stderr",
     "output_type": "stream",
     "text": [
      "\n",
      "2it [00:19,  9.95s/it]\u001b[A\n",
      "3it [00:29,  9.99s/it]\u001b[A\n",
      "4it [00:39,  9.94s/it]\u001b[A\n",
      "5it [00:49,  9.75s/it]\u001b[A\n",
      "6it [00:59,  9.99s/it]\u001b[A\n",
      "7it [01:09, 10.02s/it]\u001b[A\n",
      "8it [01:19,  9.87s/it]\u001b[A\n",
      "9it [01:30, 10.13s/it]\u001b[A\n",
      "10it [01:39,  9.98s/it]\u001b[A\n",
      "11it [01:49,  9.98s/it]\u001b[A"
     ]
    },
    {
     "name": "stdout",
     "output_type": "stream",
     "text": [
      "Batch 10, Loss: 0.0031\n"
     ]
    },
    {
     "name": "stderr",
     "output_type": "stream",
     "text": [
      "\n",
      "12it [01:59,  9.94s/it]\u001b[A\n",
      "13it [02:09,  9.96s/it]\u001b[A\n",
      "14it [02:19, 10.02s/it]\u001b[A\n",
      "15it [02:30, 10.20s/it]\u001b[A\n",
      "16it [02:40, 10.18s/it]\u001b[A\n",
      "17it [02:50, 10.04s/it]\u001b[A\n",
      "18it [03:00, 10.23s/it]\u001b[A\n",
      "19it [03:10, 10.05s/it]\u001b[A\n",
      "20it [03:19,  9.90s/it]\u001b[A\n",
      "21it [03:30,  9.97s/it]\u001b[A"
     ]
    },
    {
     "name": "stdout",
     "output_type": "stream",
     "text": [
      "Batch 20, Loss: 0.0012\n"
     ]
    },
    {
     "name": "stderr",
     "output_type": "stream",
     "text": [
      "\n",
      "22it [03:39,  9.91s/it]\u001b[A\n",
      "23it [03:49,  9.86s/it]\u001b[A\n",
      "24it [03:59,  9.97s/it]\u001b[A\n",
      "100%|██████████| 50/50 [3:22:47<00:00, 243.34s/it]"
     ]
    },
    {
     "name": "stdout",
     "output_type": "stream",
     "text": [
      "Epoch 50 Perplexity: 1.0012\n",
      "Epoch 50 Lexical Diversity: 0.9894, Bigram Diversity: 1.0000\n"
     ]
    },
    {
     "name": "stderr",
     "output_type": "stream",
     "text": [
      "\n"
     ]
    }
   ],
   "source": [
    "import torch\n",
    "from torch.nn.functional import cross_entropy\n",
    "from tqdm import tqdm\n",
    "\n",
    "def compute_perplexity(model, inputs):\n",
    "    with torch.no_grad():\n",
    "        outputs = model(**inputs, labels=inputs[\"input_ids\"])\n",
    "        loss = outputs.loss\n",
    "        perplexity = torch.exp(loss)\n",
    "    return perplexity.item()\n",
    "\n",
    "def lexical_diversity(caption):\n",
    "    tokens = caption.split()\n",
    "    if len(tokens) == 0:\n",
    "        return 0\n",
    "    return len(set(tokens)) / len(tokens)\n",
    "\n",
    "def n_gram_diversity(caption, n=2):\n",
    "    tokens = caption.split()\n",
    "    if len(tokens) < n:\n",
    "        return 0\n",
    "    n_grams = list(zip(*[tokens[i:] for i in range(n)]))\n",
    "    return len(set(n_grams)) / len(n_grams)\n",
    "\n",
    "for epoch in tqdm(range(config['epochs'])):\n",
    "    optimizer.zero_grad()\n",
    "    print(f\"Epoch {epoch + 1}/{config['epochs']}\")\n",
    "    total_loss = 0\n",
    "    all_captions = []\n",
    "    \n",
    "    for idx, batch in tqdm(enumerate(train_dataloader)):\n",
    "        input_ids = batch.pop(\"input_ids\")\n",
    "        pixel_values = batch.pop(\"pixel_values\")\n",
    "        \n",
    "        outputs = model(input_ids=input_ids, pixel_values=pixel_values, labels=input_ids)\n",
    "        loss = outputs.loss\n",
    "        \n",
    "        total_loss += loss.item()\n",
    "        \n",
    "        # Backpropagation\n",
    "        loss.backward()\n",
    "        optimizer.step()\n",
    "        optimizer.zero_grad()\n",
    "        \n",
    "        # Generate captions for diversity metrics\n",
    "        with torch.no_grad():\n",
    "            generated_captions = model.generate(pixel_values=pixel_values, max_length=20)\n",
    "            decoded_captions = processor.batch_decode(generated_captions, skip_special_tokens=True)\n",
    "            all_captions.extend(decoded_captions)\n",
    "        \n",
    "        if idx % 10 == 0:\n",
    "            print(f\"Batch {idx}, Loss: {loss.item():.4f}\")\n",
    "    \n",
    "    # Perplexity computation\n",
    "    inputs = {\"input_ids\": input_ids, \"pixel_values\": pixel_values}\n",
    "    perplexity = compute_perplexity(model, inputs)\n",
    "    print(f\"Epoch {epoch + 1} Perplexity: {perplexity:.4f}\")\n",
    "    \n",
    "    # Caption Diversity Metrics\n",
    "    lexical_div = sum(lexical_diversity(caption) for caption in all_captions) / len(all_captions)\n",
    "    bigram_div = sum(n_gram_diversity(caption, n=2) for caption in all_captions) / len(all_captions)\n",
    "    print(f\"Epoch {epoch + 1} Lexical Diversity: {lexical_div:.4f}, Bigram Diversity: {bigram_div:.4f}\")\n",
    "\n"
   ]
  },
  {
   "cell_type": "markdown",
   "id": "344e88ef-0a67-485a-b553-c337e5115653",
   "metadata": {},
   "source": [
    "## Inference"
   ]
  },
  {
   "cell_type": "code",
   "execution_count": 194,
   "id": "2ca8c160-3e8c-4505-b986-f50897fc50e3",
   "metadata": {},
   "outputs": [
    {
     "name": "stderr",
     "output_type": "stream",
     "text": [
      "Generating Caption...: 100%|██████████| 47/47 [01:36<00:00,  2.05s/it]"
     ]
    },
    {
     "name": "stdout",
     "output_type": "stream",
     "text": [
      "{'bike_1': 'isometric view drawing of a police motorcycle', 'bike_2': 'isometric view drawing of a police motorcycle', 'bike_3': 'isometric view drawing of a motorcycle', 'bike_4': 'isometric view drawing of a motorcycle', 'bike_5': 'isometric view drawing of a police motorcycle', 'bike_6': 'isometric view drawing of a motorcycle', 'bike_7': 'isometric view drawing of a police motorcycle', 'bike_8': 'isometric view drawing of a motorcycle', 'bike_9': 'isometric view drawing of a motorcycle', 'car_1': 'isometric view drawing of a car', 'car_2': 'isometric view drawing of a car', 'car_3': 'isometric view drawing of a car', 'car_4': 'sideview drawing of a car', 'car_5': 'sideview drawing of a car', 'car_6': 'sideview drawing of a car', 'car_7': 'isometric view drawing of a car', 'car_8': 'sideview drawing of a car', 'car_9': 'sideview drawing of a car', 'car_10': 'isometric view drawing of a classic car', 'cat_1': 'sketch of a cat', 'cat_2': 'drawing of a cat', 'cat_3': 'drawing of a cat', 'cat_4': 'sideview drawing of a cat', 'cat_5': 'drawing of a cat', 'cat_6': 'drawing of a cat', 'cat_7': 'drawing of a cat', 'cycle_1': 'isometric view drawing of a bicycle', 'cycle_2': 'isometric view drawing of a bicycle', 'cycle_3': 'sideview drawing of a bicycle', 'cycle_4': 'sideview drawing of a bicycle', 'cycle_5': 'isometric view drawing of a bicycle', 'cycle_6': 'isometric view drawing of a bicycle', 'plane_1': 'sideview drawing of a plane', 'plane_2': 'sideview drawing of a plane', 'plane_3': 'sideview drawing of a plane', 'plane_4': 'drawing of a plane flying', 'plane_5': 'drawing of a plane flying', 'plane_6': 'drawing of a plane flying', 'plane_7': 'sideview drawing of a plane', 'plane_8': 'drawing of a plane flying', 'plane_9': 'isometric view drawing of a plane', 'signal_1': 'sketch of two sets of traffic lights', 'signal_2': 'sketch of a traffic signal', 'signal_3': 'sideview drawing of a car', 'signal_4': 'sketch of two sets of traffic lights', 'signal_5': 'drawing of a signal', 'signal_6': 'drawing of a signal'}\n"
     ]
    },
    {
     "name": "stderr",
     "output_type": "stream",
     "text": [
      "\n"
     ]
    }
   ],
   "source": [
    "result = {}\n",
    "\n",
    "for category, sketch in tqdm(sketches, desc=f\"Generating Caption...\"):\n",
    "    inputs = processor(sketch, return_tensors=\"pt\")\n",
    "    outputs = model.generate(**inputs)\n",
    "    caption = processor.decode(outputs[0], skip_special_tokens=True)\n",
    "    result[category] = caption\n",
    "\n",
    "print(result)\n",
    "\n",
    "with open('img2text_finetuned.json', 'w+') as f:\n",
    "    json.dump(result, f)"
   ]
  },
  {
   "cell_type": "markdown",
   "id": "3547919e-925d-44bb-a9bd-ae8747cfa4ba",
   "metadata": {},
   "source": [
    "## Download the model parameters for deployment"
   ]
  },
  {
   "cell_type": "code",
   "execution_count": 196,
   "id": "6f1ca172-d374-422e-996b-a6f33a23a0fa",
   "metadata": {},
   "outputs": [
    {
     "data": {
      "text/plain": [
       "[]"
      ]
     },
     "execution_count": 196,
     "metadata": {},
     "output_type": "execute_result"
    }
   ],
   "source": [
    "model.save_pretrained('./fine_tuned_blip')\n",
    "processor.save_pretrained('./fine_tuned_blip_processor')\n"
   ]
  }
 ],
 "metadata": {
  "kernelspec": {
   "display_name": "Python (Stable Diffusion)",
   "language": "python",
   "name": "stable-diffusion-env"
  },
  "language_info": {
   "codemirror_mode": {
    "name": "ipython",
    "version": 3
   },
   "file_extension": ".py",
   "mimetype": "text/x-python",
   "name": "python",
   "nbconvert_exporter": "python",
   "pygments_lexer": "ipython3",
   "version": "3.9.20"
  }
 },
 "nbformat": 4,
 "nbformat_minor": 5
}
